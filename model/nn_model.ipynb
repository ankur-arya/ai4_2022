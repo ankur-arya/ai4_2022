{
 "cells": [
  {
   "cell_type": "code",
   "execution_count": 1,
   "id": "84134c14-f257-466a-ac42-d2ae0c29d0ff",
   "metadata": {
    "tags": []
   },
   "outputs": [],
   "source": [
    "import numpy as np\n",
    "import pandas as pd\n",
    "import matplotlib\n",
    "import matplotlib.pyplot as plt"
   ]
  },
  {
   "cell_type": "code",
   "execution_count": 2,
   "id": "de40a2b4-2846-4c0e-91fa-aa06614a48f7",
   "metadata": {},
   "outputs": [],
   "source": [
    "params = {\n",
    "   'axes.labelsize': 10,\n",
    "   'font.size': 10,\n",
    "   'legend.fontsize': 10,\n",
    "   'xtick.labelsize': 10,\n",
    "   'ytick.labelsize': 10,\n",
    "   'text.usetex': False,\n",
    "   'figure.figsize': [4.5, 4.5]\n",
    "   }\n",
    "matplotlib.rcParams.update(params)\n",
    "cmap = matplotlib.colormaps['tab10']"
   ]
  },
  {
   "cell_type": "markdown",
   "id": "3210db7c-b99b-4211-a10a-1fc384ee7800",
   "metadata": {},
   "source": [
    "## Data"
   ]
  },
  {
   "cell_type": "markdown",
   "id": "d8982067-616d-49dc-83b2-41a8331cdf05",
   "metadata": {},
   "source": [
    "### Import Data"
   ]
  },
  {
   "cell_type": "code",
   "execution_count": 3,
   "id": "667442e3-9511-4f77-8cc3-f5f666f5d92f",
   "metadata": {},
   "outputs": [
    {
     "data": {
      "text/html": [
       "<div>\n",
       "<style scoped>\n",
       "    .dataframe tbody tr th:only-of-type {\n",
       "        vertical-align: middle;\n",
       "    }\n",
       "\n",
       "    .dataframe tbody tr th {\n",
       "        vertical-align: top;\n",
       "    }\n",
       "\n",
       "    .dataframe thead th {\n",
       "        text-align: right;\n",
       "    }\n",
       "</style>\n",
       "<table border=\"1\" class=\"dataframe\">\n",
       "  <thead>\n",
       "    <tr style=\"text-align: right;\">\n",
       "      <th></th>\n",
       "      <th>discharge_date</th>\n",
       "      <th>n_discharges</th>\n",
       "      <th>avg_discharge_time</th>\n",
       "      <th>percent_discharge_before_14</th>\n",
       "      <th>percent_discharge_before_13</th>\n",
       "      <th>percent_discharge_before_12</th>\n",
       "      <th>percent_discharge_before_11</th>\n",
       "      <th>weekday</th>\n",
       "      <th>n_md_staff</th>\n",
       "      <th>n_app_staff</th>\n",
       "      <th>...</th>\n",
       "      <th>avg_bed_wait_time</th>\n",
       "      <th>percent_bed_wait_less_30_min</th>\n",
       "      <th>percent_bed_wait_less_1_hr</th>\n",
       "      <th>percent_bed_wait_less_2_hr</th>\n",
       "      <th>percent_home_floor</th>\n",
       "      <th>percent_service_A</th>\n",
       "      <th>percent_service_B</th>\n",
       "      <th>avg_discharge_before_13</th>\n",
       "      <th>avg_discharge_before_12</th>\n",
       "      <th>avg_discharge_before_11</th>\n",
       "    </tr>\n",
       "  </thead>\n",
       "  <tbody>\n",
       "    <tr>\n",
       "      <th>0</th>\n",
       "      <td>01-01-2023</td>\n",
       "      <td>22</td>\n",
       "      <td>12.500000</td>\n",
       "      <td>0.727273</td>\n",
       "      <td>0.545455</td>\n",
       "      <td>0.272727</td>\n",
       "      <td>0.045455</td>\n",
       "      <td>6.0</td>\n",
       "      <td>3</td>\n",
       "      <td>6</td>\n",
       "      <td>...</td>\n",
       "      <td>64.319697</td>\n",
       "      <td>0.363636</td>\n",
       "      <td>0.454545</td>\n",
       "      <td>0.818182</td>\n",
       "      <td>0.454545</td>\n",
       "      <td>0.727273</td>\n",
       "      <td>0.272727</td>\n",
       "      <td>1</td>\n",
       "      <td>0</td>\n",
       "      <td>0</td>\n",
       "    </tr>\n",
       "    <tr>\n",
       "      <th>1</th>\n",
       "      <td>01-01-2024</td>\n",
       "      <td>10</td>\n",
       "      <td>11.500000</td>\n",
       "      <td>1.000000</td>\n",
       "      <td>0.700000</td>\n",
       "      <td>0.600000</td>\n",
       "      <td>0.100000</td>\n",
       "      <td>0.0</td>\n",
       "      <td>1</td>\n",
       "      <td>3</td>\n",
       "      <td>...</td>\n",
       "      <td>0.000000</td>\n",
       "      <td>1.000000</td>\n",
       "      <td>1.000000</td>\n",
       "      <td>1.000000</td>\n",
       "      <td>0.700000</td>\n",
       "      <td>0.400000</td>\n",
       "      <td>0.600000</td>\n",
       "      <td>1</td>\n",
       "      <td>1</td>\n",
       "      <td>0</td>\n",
       "    </tr>\n",
       "    <tr>\n",
       "      <th>2</th>\n",
       "      <td>01-01-2025</td>\n",
       "      <td>21</td>\n",
       "      <td>12.285714</td>\n",
       "      <td>0.714286</td>\n",
       "      <td>0.619048</td>\n",
       "      <td>0.523810</td>\n",
       "      <td>0.142857</td>\n",
       "      <td>2.0</td>\n",
       "      <td>4</td>\n",
       "      <td>6</td>\n",
       "      <td>...</td>\n",
       "      <td>0.000000</td>\n",
       "      <td>1.000000</td>\n",
       "      <td>1.000000</td>\n",
       "      <td>1.000000</td>\n",
       "      <td>0.476190</td>\n",
       "      <td>0.523810</td>\n",
       "      <td>0.476190</td>\n",
       "      <td>1</td>\n",
       "      <td>0</td>\n",
       "      <td>0</td>\n",
       "    </tr>\n",
       "    <tr>\n",
       "      <th>3</th>\n",
       "      <td>01-01-2026</td>\n",
       "      <td>17</td>\n",
       "      <td>12.058824</td>\n",
       "      <td>0.764706</td>\n",
       "      <td>0.588235</td>\n",
       "      <td>0.411765</td>\n",
       "      <td>0.235294</td>\n",
       "      <td>3.0</td>\n",
       "      <td>4</td>\n",
       "      <td>5</td>\n",
       "      <td>...</td>\n",
       "      <td>113.127451</td>\n",
       "      <td>0.294118</td>\n",
       "      <td>0.294118</td>\n",
       "      <td>0.352941</td>\n",
       "      <td>0.647059</td>\n",
       "      <td>0.647059</td>\n",
       "      <td>0.352941</td>\n",
       "      <td>1</td>\n",
       "      <td>0</td>\n",
       "      <td>0</td>\n",
       "    </tr>\n",
       "    <tr>\n",
       "      <th>4</th>\n",
       "      <td>01-01-2027</td>\n",
       "      <td>21</td>\n",
       "      <td>13.238095</td>\n",
       "      <td>0.523810</td>\n",
       "      <td>0.523810</td>\n",
       "      <td>0.190476</td>\n",
       "      <td>0.000000</td>\n",
       "      <td>4.0</td>\n",
       "      <td>2</td>\n",
       "      <td>5</td>\n",
       "      <td>...</td>\n",
       "      <td>100.665873</td>\n",
       "      <td>0.285714</td>\n",
       "      <td>0.333333</td>\n",
       "      <td>0.476190</td>\n",
       "      <td>0.333333</td>\n",
       "      <td>0.476190</td>\n",
       "      <td>0.523810</td>\n",
       "      <td>0</td>\n",
       "      <td>0</td>\n",
       "      <td>0</td>\n",
       "    </tr>\n",
       "  </tbody>\n",
       "</table>\n",
       "<p>5 rows × 36 columns</p>\n",
       "</div>"
      ],
      "text/plain": [
       "  discharge_date  n_discharges  avg_discharge_time  \\\n",
       "0     01-01-2023            22           12.500000   \n",
       "1     01-01-2024            10           11.500000   \n",
       "2     01-01-2025            21           12.285714   \n",
       "3     01-01-2026            17           12.058824   \n",
       "4     01-01-2027            21           13.238095   \n",
       "\n",
       "   percent_discharge_before_14  percent_discharge_before_13  \\\n",
       "0                     0.727273                     0.545455   \n",
       "1                     1.000000                     0.700000   \n",
       "2                     0.714286                     0.619048   \n",
       "3                     0.764706                     0.588235   \n",
       "4                     0.523810                     0.523810   \n",
       "\n",
       "   percent_discharge_before_12  percent_discharge_before_11  weekday  \\\n",
       "0                     0.272727                     0.045455      6.0   \n",
       "1                     0.600000                     0.100000      0.0   \n",
       "2                     0.523810                     0.142857      2.0   \n",
       "3                     0.411765                     0.235294      3.0   \n",
       "4                     0.190476                     0.000000      4.0   \n",
       "\n",
       "   n_md_staff  n_app_staff  ...  avg_bed_wait_time  \\\n",
       "0           3            6  ...          64.319697   \n",
       "1           1            3  ...           0.000000   \n",
       "2           4            6  ...           0.000000   \n",
       "3           4            5  ...         113.127451   \n",
       "4           2            5  ...         100.665873   \n",
       "\n",
       "   percent_bed_wait_less_30_min  percent_bed_wait_less_1_hr  \\\n",
       "0                      0.363636                    0.454545   \n",
       "1                      1.000000                    1.000000   \n",
       "2                      1.000000                    1.000000   \n",
       "3                      0.294118                    0.294118   \n",
       "4                      0.285714                    0.333333   \n",
       "\n",
       "   percent_bed_wait_less_2_hr  percent_home_floor  percent_service_A  \\\n",
       "0                    0.818182            0.454545           0.727273   \n",
       "1                    1.000000            0.700000           0.400000   \n",
       "2                    1.000000            0.476190           0.523810   \n",
       "3                    0.352941            0.647059           0.647059   \n",
       "4                    0.476190            0.333333           0.476190   \n",
       "\n",
       "   percent_service_B  avg_discharge_before_13  avg_discharge_before_12  \\\n",
       "0           0.272727                        1                        0   \n",
       "1           0.600000                        1                        1   \n",
       "2           0.476190                        1                        0   \n",
       "3           0.352941                        1                        0   \n",
       "4           0.523810                        0                        0   \n",
       "\n",
       "   avg_discharge_before_11  \n",
       "0                        0  \n",
       "1                        0  \n",
       "2                        0  \n",
       "3                        0  \n",
       "4                        0  \n",
       "\n",
       "[5 rows x 36 columns]"
      ]
     },
     "execution_count": 3,
     "metadata": {},
     "output_type": "execute_result"
    }
   ],
   "source": [
    "df = pd.read_csv('../data/summary.csv')\n",
    "df.head()"
   ]
  },
  {
   "cell_type": "code",
   "execution_count": 4,
   "id": "a133ea20-bcd1-40b1-8f6f-fca11840ae70",
   "metadata": {},
   "outputs": [
    {
     "data": {
      "text/plain": [
       "Index(['discharge_date', 'n_discharges', 'avg_discharge_time',\n",
       "       'percent_discharge_before_14', 'percent_discharge_before_13',\n",
       "       'percent_discharge_before_12', 'percent_discharge_before_11', 'weekday',\n",
       "       'n_md_staff', 'n_app_staff', 'n_nurse_staff', 'n_cm_staff',\n",
       "       'n_pharm_staff', 'n_bed_staff', 'rounding_start', 'n_floor_adder',\n",
       "       'rounding_mean_queue_length', 'perc_transport_cases',\n",
       "       'perc_equipment_cases', 'perc_cm_cases', 'perc_cm_trans_cases',\n",
       "       'perc_cm_equip_cases', 'perc_cm_trans_med_cases',\n",
       "       'perc_cm_equip_med_cases', 'perc_cm_equip_trans_cases',\n",
       "       'perc_cm_equip_trans_med_cases', 'avg_bed_wait_time',\n",
       "       'percent_bed_wait_less_30_min', 'percent_bed_wait_less_1_hr',\n",
       "       'percent_bed_wait_less_2_hr', 'percent_home_floor', 'percent_service_A',\n",
       "       'percent_service_B', 'avg_discharge_before_13',\n",
       "       'avg_discharge_before_12', 'avg_discharge_before_11'],\n",
       "      dtype='object')"
      ]
     },
     "execution_count": 4,
     "metadata": {},
     "output_type": "execute_result"
    }
   ],
   "source": [
    "df.columns"
   ]
  },
  {
   "cell_type": "markdown",
   "id": "7e37627a-b2af-4d91-ac91-caedfd2b38b0",
   "metadata": {},
   "source": [
    "### Select Features"
   ]
  },
  {
   "cell_type": "code",
   "execution_count": 5,
   "id": "51d0cdf1-e29c-4d4d-8f39-4da71f0cd0fe",
   "metadata": {},
   "outputs": [
    {
     "data": {
      "text/html": [
       "<div>\n",
       "<style scoped>\n",
       "    .dataframe tbody tr th:only-of-type {\n",
       "        vertical-align: middle;\n",
       "    }\n",
       "\n",
       "    .dataframe tbody tr th {\n",
       "        vertical-align: top;\n",
       "    }\n",
       "\n",
       "    .dataframe thead th {\n",
       "        text-align: right;\n",
       "    }\n",
       "</style>\n",
       "<table border=\"1\" class=\"dataframe\">\n",
       "  <thead>\n",
       "    <tr style=\"text-align: right;\">\n",
       "      <th></th>\n",
       "      <th>n_discharges</th>\n",
       "      <th>n_md_staff</th>\n",
       "      <th>n_app_staff</th>\n",
       "      <th>n_nurse_staff</th>\n",
       "      <th>n_cm_staff</th>\n",
       "      <th>n_pharm_staff</th>\n",
       "      <th>n_bed_staff</th>\n",
       "      <th>rounding_start</th>\n",
       "      <th>perc_transport_cases</th>\n",
       "      <th>perc_equipment_cases</th>\n",
       "      <th>perc_cm_cases</th>\n",
       "      <th>perc_cm_trans_cases</th>\n",
       "      <th>perc_cm_equip_cases</th>\n",
       "      <th>perc_cm_trans_med_cases</th>\n",
       "      <th>perc_cm_equip_med_cases</th>\n",
       "      <th>perc_cm_equip_trans_cases</th>\n",
       "      <th>perc_cm_equip_trans_med_cases</th>\n",
       "      <th>percent_service_A</th>\n",
       "      <th>percent_service_B</th>\n",
       "      <th>percent_home_floor</th>\n",
       "    </tr>\n",
       "  </thead>\n",
       "  <tbody>\n",
       "    <tr>\n",
       "      <th>0</th>\n",
       "      <td>22</td>\n",
       "      <td>3</td>\n",
       "      <td>6</td>\n",
       "      <td>8</td>\n",
       "      <td>4</td>\n",
       "      <td>3</td>\n",
       "      <td>3</td>\n",
       "      <td>480</td>\n",
       "      <td>0.045455</td>\n",
       "      <td>0.136364</td>\n",
       "      <td>0.227273</td>\n",
       "      <td>0.045455</td>\n",
       "      <td>0.136364</td>\n",
       "      <td>0.045455</td>\n",
       "      <td>0.090909</td>\n",
       "      <td>0.045455</td>\n",
       "      <td>0.045455</td>\n",
       "      <td>0.727273</td>\n",
       "      <td>0.272727</td>\n",
       "      <td>0.454545</td>\n",
       "    </tr>\n",
       "    <tr>\n",
       "      <th>1</th>\n",
       "      <td>10</td>\n",
       "      <td>1</td>\n",
       "      <td>3</td>\n",
       "      <td>10</td>\n",
       "      <td>0</td>\n",
       "      <td>3</td>\n",
       "      <td>3</td>\n",
       "      <td>450</td>\n",
       "      <td>0.000000</td>\n",
       "      <td>0.000000</td>\n",
       "      <td>0.000000</td>\n",
       "      <td>0.000000</td>\n",
       "      <td>0.000000</td>\n",
       "      <td>0.000000</td>\n",
       "      <td>0.000000</td>\n",
       "      <td>0.000000</td>\n",
       "      <td>0.000000</td>\n",
       "      <td>0.400000</td>\n",
       "      <td>0.600000</td>\n",
       "      <td>0.700000</td>\n",
       "    </tr>\n",
       "    <tr>\n",
       "      <th>2</th>\n",
       "      <td>21</td>\n",
       "      <td>4</td>\n",
       "      <td>6</td>\n",
       "      <td>10</td>\n",
       "      <td>3</td>\n",
       "      <td>3</td>\n",
       "      <td>3</td>\n",
       "      <td>480</td>\n",
       "      <td>0.142857</td>\n",
       "      <td>0.095238</td>\n",
       "      <td>0.142857</td>\n",
       "      <td>0.142857</td>\n",
       "      <td>0.095238</td>\n",
       "      <td>0.095238</td>\n",
       "      <td>0.047619</td>\n",
       "      <td>0.095238</td>\n",
       "      <td>0.047619</td>\n",
       "      <td>0.523810</td>\n",
       "      <td>0.476190</td>\n",
       "      <td>0.476190</td>\n",
       "    </tr>\n",
       "    <tr>\n",
       "      <th>3</th>\n",
       "      <td>17</td>\n",
       "      <td>4</td>\n",
       "      <td>5</td>\n",
       "      <td>8</td>\n",
       "      <td>2</td>\n",
       "      <td>3</td>\n",
       "      <td>3</td>\n",
       "      <td>480</td>\n",
       "      <td>0.117647</td>\n",
       "      <td>0.058824</td>\n",
       "      <td>0.117647</td>\n",
       "      <td>0.117647</td>\n",
       "      <td>0.058824</td>\n",
       "      <td>0.000000</td>\n",
       "      <td>0.000000</td>\n",
       "      <td>0.058824</td>\n",
       "      <td>0.000000</td>\n",
       "      <td>0.647059</td>\n",
       "      <td>0.352941</td>\n",
       "      <td>0.647059</td>\n",
       "    </tr>\n",
       "    <tr>\n",
       "      <th>4</th>\n",
       "      <td>21</td>\n",
       "      <td>2</td>\n",
       "      <td>5</td>\n",
       "      <td>10</td>\n",
       "      <td>3</td>\n",
       "      <td>3</td>\n",
       "      <td>3</td>\n",
       "      <td>495</td>\n",
       "      <td>0.142857</td>\n",
       "      <td>0.047619</td>\n",
       "      <td>0.190476</td>\n",
       "      <td>0.142857</td>\n",
       "      <td>0.047619</td>\n",
       "      <td>0.095238</td>\n",
       "      <td>0.047619</td>\n",
       "      <td>0.047619</td>\n",
       "      <td>0.047619</td>\n",
       "      <td>0.476190</td>\n",
       "      <td>0.523810</td>\n",
       "      <td>0.333333</td>\n",
       "    </tr>\n",
       "    <tr>\n",
       "      <th>...</th>\n",
       "      <td>...</td>\n",
       "      <td>...</td>\n",
       "      <td>...</td>\n",
       "      <td>...</td>\n",
       "      <td>...</td>\n",
       "      <td>...</td>\n",
       "      <td>...</td>\n",
       "      <td>...</td>\n",
       "      <td>...</td>\n",
       "      <td>...</td>\n",
       "      <td>...</td>\n",
       "      <td>...</td>\n",
       "      <td>...</td>\n",
       "      <td>...</td>\n",
       "      <td>...</td>\n",
       "      <td>...</td>\n",
       "      <td>...</td>\n",
       "      <td>...</td>\n",
       "      <td>...</td>\n",
       "      <td>...</td>\n",
       "    </tr>\n",
       "    <tr>\n",
       "      <th>3644</th>\n",
       "      <td>20</td>\n",
       "      <td>1</td>\n",
       "      <td>3</td>\n",
       "      <td>10</td>\n",
       "      <td>3</td>\n",
       "      <td>3</td>\n",
       "      <td>3</td>\n",
       "      <td>465</td>\n",
       "      <td>0.150000</td>\n",
       "      <td>0.050000</td>\n",
       "      <td>0.250000</td>\n",
       "      <td>0.150000</td>\n",
       "      <td>0.050000</td>\n",
       "      <td>0.150000</td>\n",
       "      <td>0.050000</td>\n",
       "      <td>0.050000</td>\n",
       "      <td>0.050000</td>\n",
       "      <td>0.600000</td>\n",
       "      <td>0.400000</td>\n",
       "      <td>0.700000</td>\n",
       "    </tr>\n",
       "    <tr>\n",
       "      <th>3645</th>\n",
       "      <td>22</td>\n",
       "      <td>3</td>\n",
       "      <td>5</td>\n",
       "      <td>10</td>\n",
       "      <td>3</td>\n",
       "      <td>3</td>\n",
       "      <td>3</td>\n",
       "      <td>480</td>\n",
       "      <td>0.090909</td>\n",
       "      <td>0.045455</td>\n",
       "      <td>0.181818</td>\n",
       "      <td>0.090909</td>\n",
       "      <td>0.045455</td>\n",
       "      <td>0.000000</td>\n",
       "      <td>0.000000</td>\n",
       "      <td>0.045455</td>\n",
       "      <td>0.000000</td>\n",
       "      <td>0.590909</td>\n",
       "      <td>0.409091</td>\n",
       "      <td>0.590909</td>\n",
       "    </tr>\n",
       "    <tr>\n",
       "      <th>3646</th>\n",
       "      <td>25</td>\n",
       "      <td>2</td>\n",
       "      <td>2</td>\n",
       "      <td>11</td>\n",
       "      <td>4</td>\n",
       "      <td>3</td>\n",
       "      <td>4</td>\n",
       "      <td>465</td>\n",
       "      <td>0.120000</td>\n",
       "      <td>0.200000</td>\n",
       "      <td>0.320000</td>\n",
       "      <td>0.120000</td>\n",
       "      <td>0.200000</td>\n",
       "      <td>0.120000</td>\n",
       "      <td>0.200000</td>\n",
       "      <td>0.120000</td>\n",
       "      <td>0.120000</td>\n",
       "      <td>0.680000</td>\n",
       "      <td>0.320000</td>\n",
       "      <td>0.640000</td>\n",
       "    </tr>\n",
       "    <tr>\n",
       "      <th>3647</th>\n",
       "      <td>10</td>\n",
       "      <td>1</td>\n",
       "      <td>3</td>\n",
       "      <td>9</td>\n",
       "      <td>3</td>\n",
       "      <td>3</td>\n",
       "      <td>3</td>\n",
       "      <td>450</td>\n",
       "      <td>0.100000</td>\n",
       "      <td>0.100000</td>\n",
       "      <td>0.300000</td>\n",
       "      <td>0.100000</td>\n",
       "      <td>0.100000</td>\n",
       "      <td>0.000000</td>\n",
       "      <td>0.000000</td>\n",
       "      <td>0.000000</td>\n",
       "      <td>0.000000</td>\n",
       "      <td>0.600000</td>\n",
       "      <td>0.400000</td>\n",
       "      <td>0.300000</td>\n",
       "    </tr>\n",
       "    <tr>\n",
       "      <th>3648</th>\n",
       "      <td>11</td>\n",
       "      <td>3</td>\n",
       "      <td>6</td>\n",
       "      <td>10</td>\n",
       "      <td>3</td>\n",
       "      <td>3</td>\n",
       "      <td>3</td>\n",
       "      <td>480</td>\n",
       "      <td>0.272727</td>\n",
       "      <td>0.272727</td>\n",
       "      <td>0.454545</td>\n",
       "      <td>0.272727</td>\n",
       "      <td>0.272727</td>\n",
       "      <td>0.000000</td>\n",
       "      <td>0.090909</td>\n",
       "      <td>0.181818</td>\n",
       "      <td>0.000000</td>\n",
       "      <td>0.636364</td>\n",
       "      <td>0.363636</td>\n",
       "      <td>0.454545</td>\n",
       "    </tr>\n",
       "  </tbody>\n",
       "</table>\n",
       "<p>3649 rows × 20 columns</p>\n",
       "</div>"
      ],
      "text/plain": [
       "      n_discharges  n_md_staff  n_app_staff  n_nurse_staff  n_cm_staff  \\\n",
       "0               22           3            6              8           4   \n",
       "1               10           1            3             10           0   \n",
       "2               21           4            6             10           3   \n",
       "3               17           4            5              8           2   \n",
       "4               21           2            5             10           3   \n",
       "...            ...         ...          ...            ...         ...   \n",
       "3644            20           1            3             10           3   \n",
       "3645            22           3            5             10           3   \n",
       "3646            25           2            2             11           4   \n",
       "3647            10           1            3              9           3   \n",
       "3648            11           3            6             10           3   \n",
       "\n",
       "      n_pharm_staff  n_bed_staff  rounding_start  perc_transport_cases  \\\n",
       "0                 3            3             480              0.045455   \n",
       "1                 3            3             450              0.000000   \n",
       "2                 3            3             480              0.142857   \n",
       "3                 3            3             480              0.117647   \n",
       "4                 3            3             495              0.142857   \n",
       "...             ...          ...             ...                   ...   \n",
       "3644              3            3             465              0.150000   \n",
       "3645              3            3             480              0.090909   \n",
       "3646              3            4             465              0.120000   \n",
       "3647              3            3             450              0.100000   \n",
       "3648              3            3             480              0.272727   \n",
       "\n",
       "      perc_equipment_cases  perc_cm_cases  perc_cm_trans_cases  \\\n",
       "0                 0.136364       0.227273             0.045455   \n",
       "1                 0.000000       0.000000             0.000000   \n",
       "2                 0.095238       0.142857             0.142857   \n",
       "3                 0.058824       0.117647             0.117647   \n",
       "4                 0.047619       0.190476             0.142857   \n",
       "...                    ...            ...                  ...   \n",
       "3644              0.050000       0.250000             0.150000   \n",
       "3645              0.045455       0.181818             0.090909   \n",
       "3646              0.200000       0.320000             0.120000   \n",
       "3647              0.100000       0.300000             0.100000   \n",
       "3648              0.272727       0.454545             0.272727   \n",
       "\n",
       "      perc_cm_equip_cases  perc_cm_trans_med_cases  perc_cm_equip_med_cases  \\\n",
       "0                0.136364                 0.045455                 0.090909   \n",
       "1                0.000000                 0.000000                 0.000000   \n",
       "2                0.095238                 0.095238                 0.047619   \n",
       "3                0.058824                 0.000000                 0.000000   \n",
       "4                0.047619                 0.095238                 0.047619   \n",
       "...                   ...                      ...                      ...   \n",
       "3644             0.050000                 0.150000                 0.050000   \n",
       "3645             0.045455                 0.000000                 0.000000   \n",
       "3646             0.200000                 0.120000                 0.200000   \n",
       "3647             0.100000                 0.000000                 0.000000   \n",
       "3648             0.272727                 0.000000                 0.090909   \n",
       "\n",
       "      perc_cm_equip_trans_cases  perc_cm_equip_trans_med_cases  \\\n",
       "0                      0.045455                       0.045455   \n",
       "1                      0.000000                       0.000000   \n",
       "2                      0.095238                       0.047619   \n",
       "3                      0.058824                       0.000000   \n",
       "4                      0.047619                       0.047619   \n",
       "...                         ...                            ...   \n",
       "3644                   0.050000                       0.050000   \n",
       "3645                   0.045455                       0.000000   \n",
       "3646                   0.120000                       0.120000   \n",
       "3647                   0.000000                       0.000000   \n",
       "3648                   0.181818                       0.000000   \n",
       "\n",
       "      percent_service_A  percent_service_B  percent_home_floor  \n",
       "0              0.727273           0.272727            0.454545  \n",
       "1              0.400000           0.600000            0.700000  \n",
       "2              0.523810           0.476190            0.476190  \n",
       "3              0.647059           0.352941            0.647059  \n",
       "4              0.476190           0.523810            0.333333  \n",
       "...                 ...                ...                 ...  \n",
       "3644           0.600000           0.400000            0.700000  \n",
       "3645           0.590909           0.409091            0.590909  \n",
       "3646           0.680000           0.320000            0.640000  \n",
       "3647           0.600000           0.400000            0.300000  \n",
       "3648           0.636364           0.363636            0.454545  \n",
       "\n",
       "[3649 rows x 20 columns]"
      ]
     },
     "execution_count": 5,
     "metadata": {},
     "output_type": "execute_result"
    }
   ],
   "source": [
    "select_X_columns = ['n_discharges', 'n_md_staff', 'n_app_staff', 'n_nurse_staff', 'n_cm_staff', \n",
    "                    'n_pharm_staff', 'n_bed_staff', 'rounding_start', \n",
    "                    'perc_transport_cases', 'perc_equipment_cases', 'perc_cm_cases', \n",
    "                    'perc_cm_trans_cases','perc_cm_equip_cases', 'perc_cm_trans_med_cases',\n",
    "                    'perc_cm_equip_med_cases', 'perc_cm_equip_trans_cases','perc_cm_equip_trans_med_cases',\n",
    "                    'percent_service_A', 'percent_service_B', 'percent_home_floor']\n",
    "\n",
    "df[select_X_columns]"
   ]
  },
  {
   "cell_type": "code",
   "execution_count": 6,
   "id": "4f020c46-e4f3-4f56-9248-df3bc91c12c8",
   "metadata": {},
   "outputs": [
    {
     "data": {
      "text/html": [
       "<div>\n",
       "<style scoped>\n",
       "    .dataframe tbody tr th:only-of-type {\n",
       "        vertical-align: middle;\n",
       "    }\n",
       "\n",
       "    .dataframe tbody tr th {\n",
       "        vertical-align: top;\n",
       "    }\n",
       "\n",
       "    .dataframe thead th {\n",
       "        text-align: right;\n",
       "    }\n",
       "</style>\n",
       "<table border=\"1\" class=\"dataframe\">\n",
       "  <thead>\n",
       "    <tr style=\"text-align: right;\">\n",
       "      <th></th>\n",
       "      <th>avg_discharge_before_13</th>\n",
       "    </tr>\n",
       "  </thead>\n",
       "  <tbody>\n",
       "    <tr>\n",
       "      <th>0</th>\n",
       "      <td>1</td>\n",
       "    </tr>\n",
       "    <tr>\n",
       "      <th>1</th>\n",
       "      <td>1</td>\n",
       "    </tr>\n",
       "    <tr>\n",
       "      <th>2</th>\n",
       "      <td>1</td>\n",
       "    </tr>\n",
       "    <tr>\n",
       "      <th>3</th>\n",
       "      <td>1</td>\n",
       "    </tr>\n",
       "    <tr>\n",
       "      <th>4</th>\n",
       "      <td>0</td>\n",
       "    </tr>\n",
       "    <tr>\n",
       "      <th>...</th>\n",
       "      <td>...</td>\n",
       "    </tr>\n",
       "    <tr>\n",
       "      <th>3644</th>\n",
       "      <td>0</td>\n",
       "    </tr>\n",
       "    <tr>\n",
       "      <th>3645</th>\n",
       "      <td>1</td>\n",
       "    </tr>\n",
       "    <tr>\n",
       "      <th>3646</th>\n",
       "      <td>0</td>\n",
       "    </tr>\n",
       "    <tr>\n",
       "      <th>3647</th>\n",
       "      <td>1</td>\n",
       "    </tr>\n",
       "    <tr>\n",
       "      <th>3648</th>\n",
       "      <td>1</td>\n",
       "    </tr>\n",
       "  </tbody>\n",
       "</table>\n",
       "<p>3649 rows × 1 columns</p>\n",
       "</div>"
      ],
      "text/plain": [
       "      avg_discharge_before_13\n",
       "0                           1\n",
       "1                           1\n",
       "2                           1\n",
       "3                           1\n",
       "4                           0\n",
       "...                       ...\n",
       "3644                        0\n",
       "3645                        1\n",
       "3646                        0\n",
       "3647                        1\n",
       "3648                        1\n",
       "\n",
       "[3649 rows x 1 columns]"
      ]
     },
     "execution_count": 6,
     "metadata": {},
     "output_type": "execute_result"
    }
   ],
   "source": [
    "select_y_column = ['avg_discharge_before_13']\n",
    "df[select_y_column]"
   ]
  },
  {
   "cell_type": "markdown",
   "id": "16139f01-2999-4945-a0f3-006271532688",
   "metadata": {},
   "source": [
    "### Train Test Split"
   ]
  },
  {
   "cell_type": "code",
   "execution_count": 7,
   "id": "28dcf5a7-7770-4600-b735-8b6fdd91a08a",
   "metadata": {},
   "outputs": [],
   "source": [
    "X = df[select_X_columns].to_numpy().astype(np.float32)\n",
    "y = df[select_y_column].to_numpy().astype(np.float32)"
   ]
  },
  {
   "cell_type": "code",
   "execution_count": 8,
   "id": "c78664f6-e77d-4795-ab80-1dbf29bbe3b2",
   "metadata": {},
   "outputs": [
    {
     "data": {
      "text/plain": [
       "(3649, 20)"
      ]
     },
     "execution_count": 8,
     "metadata": {},
     "output_type": "execute_result"
    }
   ],
   "source": [
    "X.shape"
   ]
  },
  {
   "cell_type": "code",
   "execution_count": 9,
   "id": "133a7b24-89ba-419d-984f-84cd39f00be4",
   "metadata": {},
   "outputs": [
    {
     "name": "stdout",
     "output_type": "stream",
     "text": [
      "0.6406821\n",
      "0.6410959\n"
     ]
    }
   ],
   "source": [
    "from sklearn.model_selection import StratifiedShuffleSplit\n",
    "sss = StratifiedShuffleSplit(n_splits=1, test_size=0.10, random_state=123)\n",
    "\n",
    "for train_index, test_index in sss.split(X,y):\n",
    "    print(y[train_index].mean())\n",
    "    print(y[test_index].mean())"
   ]
  },
  {
   "cell_type": "code",
   "execution_count": 10,
   "id": "7fef890d-2ae0-4117-a316-628fb8ee1967",
   "metadata": {},
   "outputs": [
    {
     "data": {
      "text/plain": [
       "(3649, 20)"
      ]
     },
     "execution_count": 10,
     "metadata": {},
     "output_type": "execute_result"
    }
   ],
   "source": [
    "X.shape"
   ]
  },
  {
   "cell_type": "code",
   "execution_count": 12,
   "id": "c44544d9-e222-4b6b-a04a-50ed070a3e15",
   "metadata": {},
   "outputs": [],
   "source": [
    "X_train, y_train = X[train_index], y[train_index]\n",
    "X_test, y_test = X[test_index], y[test_index]"
   ]
  },
  {
   "cell_type": "markdown",
   "id": "b847add6-717f-474d-a88e-8c9741f5a17a",
   "metadata": {},
   "source": [
    "### Standardize Inputs"
   ]
  },
  {
   "cell_type": "code",
   "execution_count": 14,
   "id": "b9f385b8-6b81-4dfa-94d0-a8c2252d4656",
   "metadata": {},
   "outputs": [],
   "source": [
    "from sklearn.preprocessing import StandardScaler\n",
    "scaler = StandardScaler()\n",
    "X_train = scaler.fit_transform(X_train)\n",
    "X_test = scaler.transform(X_test)"
   ]
  },
  {
   "cell_type": "markdown",
   "id": "4e071c58-de20-4a60-bc75-8c01ba055683",
   "metadata": {},
   "source": [
    "### Build Inputs"
   ]
  },
  {
   "cell_type": "code",
   "execution_count": 15,
   "id": "36375f75-eb7f-4ddb-8aca-b3bde68966f1",
   "metadata": {},
   "outputs": [],
   "source": [
    "def build_inputs(df, select_X_feature, select_y_feature, test_size=0.33, X_pad=20, scaler=None):\n",
    "    \n",
    "    # select X and y\n",
    "    X = df.loc[:, select_X_feature].to_numpy().astype(np.float32)\n",
    "    y = df.loc[:, select_y_feature].to_numpy().astype(np.float32)\n",
    "    \n",
    "    # pad inputs\n",
    "    if X.shape[1]<X_pad:\n",
    "        X = np.hstack([X, np.zeros((X.shape[0],X_pad-X.shape[1]), dtype=np.float32)])\n",
    "    \n",
    "    # train test split\n",
    "    sss = StratifiedShuffleSplit(n_splits=1, test_size=test_size, random_state=123)\n",
    "    for train_index, test_index in sss.split(X,y):\n",
    "        print(f\" train class balance {y[train_index].mean()}\")\n",
    "        print(f\" train class balance {y[test_index].mean()}\")\n",
    "    \n",
    "    X_train, y_train = X[train_index], y[train_index]\n",
    "    X_test, y_test = X[test_index], y[test_index]\n",
    "    \n",
    "    # standardize\n",
    "    if scaler is None:\n",
    "        scaler = StandardScaler()\n",
    "        scaler.fit(X)\n",
    "    X_train = scaler.transform(X_train)\n",
    "    X_test = scaler.transform(X_test)\n",
    "    \n",
    "    # reshape y\n",
    "    y_train = y_train.reshape(-1, 1)\n",
    "    y_test = y_test.reshape(-1, 1)\n",
    "    \n",
    "    # create 0 and 1 test\n",
    "    X_test0 = X_test[y_test[:,0]==0, :]\n",
    "    y_test0 = y_test[y_test[:,0]==0, :]\n",
    "    X_test1 = X_test[y_test[:,0]==1, :]\n",
    "    y_test1 = y_test[y_test[:,0]==1, :]\n",
    "    \n",
    "    return X_train, y_train, X_test, y_test, X_test0, y_test0, X_test1, y_test1, scaler"
   ]
  },
  {
   "cell_type": "code",
   "execution_count": 16,
   "id": "59c24732-a1f4-4dce-b5a0-a506fedba247",
   "metadata": {},
   "outputs": [
    {
     "name": "stdout",
     "output_type": "stream",
     "text": [
      " train class balance 0.6407528519630432\n",
      " train class balance 0.6406639218330383\n"
     ]
    }
   ],
   "source": [
    "select_X_feature = ['n_discharges', 'n_md_staff', 'n_app_staff', 'n_nurse_staff', 'n_cm_staff', \n",
    "                    'n_pharm_staff', 'n_bed_staff', 'rounding_start', \n",
    "                    'perc_transport_cases', 'perc_equipment_cases', 'perc_cm_cases', \n",
    "                    'perc_cm_trans_cases','perc_cm_equip_cases', 'perc_cm_trans_med_cases',\n",
    "                    'perc_cm_equip_med_cases', 'perc_cm_equip_trans_cases','perc_cm_equip_trans_med_cases',\n",
    "                    'percent_service_A', 'percent_service_B', 'percent_home_floor']\n",
    "select_y_feature = ['avg_discharge_before_13']\n",
    "\n",
    "X_train, y_train, X_test, y_test, X_test0, y_test0, X_test1, y_test1, scaler = build_inputs(df, select_X_feature, select_y_feature, test_size=0.33, X_pad=20)"
   ]
  },
  {
   "cell_type": "markdown",
   "id": "e0875a06-df29-4e50-9d34-ae7f31e1b92a",
   "metadata": {},
   "source": [
    "## Model"
   ]
  },
  {
   "cell_type": "code",
   "execution_count": 17,
   "id": "7ec2e701-ece1-4af5-9329-4de4bc63c47e",
   "metadata": {},
   "outputs": [
    {
     "data": {
      "text/plain": [
       "<torch._C.Generator at 0x1269f3830>"
      ]
     },
     "execution_count": 17,
     "metadata": {},
     "output_type": "execute_result"
    }
   ],
   "source": [
    "import torch\n",
    "import torch.nn as nn\n",
    "from torch.utils.data import TensorDataset, DataLoader\n",
    "import warnings\n",
    "warnings.filterwarnings(\"ignore\")\n",
    "torch.manual_seed(0)"
   ]
  },
  {
   "cell_type": "markdown",
   "id": "08fe68d0-04f9-46bb-a53b-bc0910a44f6e",
   "metadata": {},
   "source": [
    "### Build Model"
   ]
  },
  {
   "cell_type": "code",
   "execution_count": 18,
   "id": "d3f8fe0e-0227-4668-b485-f4bff2c3f5fe",
   "metadata": {
    "tags": []
   },
   "outputs": [],
   "source": [
    "def create_model(n_inputs, n_hidden_layers, n_hidden_nodes):\n",
    "    \n",
    "    # Create model\n",
    "    model = nn.Sequential()\n",
    "    # Add first first layer\n",
    "    model.append(nn.Linear(n_inputs, n_hidden_nodes))\n",
    "    model.append(nn.ReLU())\n",
    "\n",
    "    # Add hidden layers\n",
    "    for i in range(NUM_HIDDEN_LAYERS-1):\n",
    "        model.append(nn.Linear(n_hidden_nodes, n_hidden_nodes))\n",
    "        model.append(nn.ReLU())\n",
    "\n",
    "    # Add output layers\n",
    "    model.append(nn.Linear(NUM_HIDDEN_NODES, 1))\n",
    "    model.append(nn.Sigmoid())\n",
    "\n",
    "    # Initialize weights.\n",
    "    for module in model.modules():\n",
    "        if isinstance(module, nn.Linear):\n",
    "            nn.init.xavier_uniform_(module.weight)\n",
    "            nn.init.constant_(module.bias, 0.0)\n",
    "\n",
    "    # Loss function and optimizer\n",
    "    optimizer = torch.optim.SGD(model.parameters(), lr=.001) #torch.optim.Adam(model.parameters())\n",
    "    loss_function = nn.BCELoss() #nn.MSELoss()\n",
    "\n",
    "    return model, optimizer, loss_function"
   ]
  },
  {
   "cell_type": "markdown",
   "id": "acac4571-f73d-45b7-8bab-2f5ac36666f9",
   "metadata": {},
   "source": [
    "### Train Model"
   ]
  },
  {
   "cell_type": "code",
   "execution_count": 19,
   "id": "127ab646-3b0b-46c5-a5d7-8c7e46376e31",
   "metadata": {},
   "outputs": [],
   "source": [
    "def train_model(model, loss_function, optimizer, trainset, testset, testset0, testset1, epochs, batch_size, threshold=0.5, verbose=False):\n",
    "    \n",
    "    # select GPU if available\n",
    "    device = torch.device(\"cuda\" if torch.cuda.is_available() else \"cpu\")\n",
    "    model.to(device)\n",
    "\n",
    "    # Dataloaders\n",
    "    trainloader = DataLoader(trainset, batch_size=batch_size, shuffle=True)\n",
    "    testloader = DataLoader(testset, batch_size=batch_size, shuffle=False)\n",
    "    testloader0 = DataLoader(testset0, batch_size=batch_size, shuffle=False)\n",
    "    testloader1 = DataLoader(testset1, batch_size=batch_size, shuffle=False)\n",
    "\n",
    "    n_epoch_list, train_acc_list, test_acc_list, test0_acc_list, test1_acc_list = [], [], [], [], []\n",
    "\n",
    "    # Iterate for N epochs\n",
    "    for i in range(epochs):\n",
    "        \n",
    "        # Train\n",
    "        model.train()\n",
    "        train_loss = 0.0\n",
    "        train_correct = 0\n",
    "        train_batches = 0\n",
    "        for inputs, targets in trainloader:\n",
    "            inputs, targets = inputs.to(device), targets.to(device)\n",
    "            optimizer.zero_grad()\n",
    "            outputs = model(inputs)\n",
    "            loss = loss_function(outputs, targets)\n",
    "            train_correct += (outputs.data.ge(threshold) == targets).sum().item()\n",
    "            train_batches += 1\n",
    "            train_loss += loss.item()\n",
    "            loss.backward()\n",
    "            optimizer.step()\n",
    "\n",
    "        train_loss = train_loss / train_batches\n",
    "        train_acc = train_correct / (train_batches * batch_size)\n",
    "        if i%10==0:\n",
    "            n_epoch_list.append(i)\n",
    "            train_acc_list.append(train_acc)\n",
    "        if verbose: print(f\"Epoch {i} Training Loss {train_loss} Training Accuracy {train_acc}\")\n",
    "        if i==epochs-1:\n",
    "            print(f\"Epoch {i} Training Loss {train_loss} Training Accuracy {train_acc}\")\n",
    "        \n",
    "        # Evaluate Testset\n",
    "        model.eval()\n",
    "        test_loss = 0.0\n",
    "        test_correct = 0\n",
    "        test_batches = 0\n",
    "        for inputs, targets in testloader:\n",
    "            inputs, targets = inputs.to(device), targets.to(device)\n",
    "            outputs = model(inputs)\n",
    "            loss = loss_function(outputs, targets)\n",
    "            test_correct += (outputs.data.ge(threshold) == targets).sum().item()\n",
    "            test_batches += 1\n",
    "            test_loss += loss.item()\n",
    "    \n",
    "        test_loss = test_loss / test_batches\n",
    "        test_acc = test_correct / (test_batches * batch_size)\n",
    "        if i%10==0:\n",
    "            test_acc_list.append(test_acc)\n",
    "        if verbose: print(f\"Epoch {i} Test Loss {test_loss} Test Accuracy {test_acc}\")\n",
    "        if i==epochs-1:\n",
    "            print(f\"Epoch {i} Test Loss {test_loss} Test Accuracy {test_acc}\")\n",
    "\n",
    "        # Evaluate Testset0\n",
    "        model.eval()\n",
    "        test_loss = 0.0\n",
    "        test_correct = 0\n",
    "        test_batches = 0\n",
    "        for inputs, targets in testloader0:\n",
    "            inputs, targets = inputs.to(device), targets.to(device)\n",
    "            outputs = model(inputs)\n",
    "            loss = loss_function(outputs, targets)\n",
    "            test_correct += (outputs.data.ge(threshold) == targets).sum().item()\n",
    "            test_batches += 1\n",
    "            test_loss += loss.item()\n",
    "    \n",
    "        test_loss = test_loss / test_batches\n",
    "        test_acc = test_correct / (test_batches * batch_size)\n",
    "        if i%10==0:\n",
    "            test0_acc_list.append(test_acc)\n",
    "        if verbose: print(f\"Epoch {i} Test0 Loss {test_loss} Test0 Accuracy {test_acc}\")\n",
    "        if i==epochs-1:\n",
    "            print(f\"Epoch {i} Test0 Loss {test_loss} Test0 Accuracy {test_acc}\")\n",
    "\n",
    "        # Evaluate Testset1\n",
    "        model.eval()\n",
    "        test_loss = 0.0\n",
    "        test_correct = 0\n",
    "        test_batches = 0\n",
    "        for inputs, targets in testloader1:\n",
    "            inputs, targets = inputs.to(device), targets.to(device)\n",
    "            outputs = model(inputs)\n",
    "            loss = loss_function(outputs, targets)\n",
    "            test_correct += (outputs.data.ge(threshold) == targets).sum().item()\n",
    "            test_batches += 1\n",
    "            test_loss += loss.item()\n",
    "    \n",
    "        test_loss = test_loss / test_batches\n",
    "        test_acc = test_correct / (test_batches * batch_size)\n",
    "        if i%10==0:\n",
    "            test1_acc_list.append(test_acc)\n",
    "        if verbose: print(f\"Epoch {i} Test1 Loss {test_loss} Test1 Accuracy {test_acc}\")\n",
    "        if i==epochs-1:\n",
    "            print(f\"Epoch {i} Test1 Loss {test_loss} Test1 Accuracy {test_acc}\")\n",
    "        \n",
    "    return n_epoch_list, train_acc_list, test_acc_list, test0_acc_list, test1_acc_list"
   ]
  },
  {
   "cell_type": "markdown",
   "id": "5a051b42-ab6e-494f-a68b-181a7fb21234",
   "metadata": {},
   "source": [
    "## Train"
   ]
  },
  {
   "cell_type": "code",
   "execution_count": 44,
   "id": "8b7ea73e-df40-47bc-abe5-2006e8e82e9c",
   "metadata": {},
   "outputs": [
    {
     "name": "stdout",
     "output_type": "stream",
     "text": [
      "--------------------------------------------------\n",
      "case1\n",
      " train class balance 0.6409319043159485\n",
      " train class balance 0.6404109597206116\n",
      "Epoch 200 Training Loss 0.25246181760160047 Training Accuracy 0.8918795620437956\n",
      "Epoch 200 Test Loss 0.2885794232757202 Test Accuracy 0.8743169398907104\n",
      "Epoch 200 Test0 Loss 0.4856134125059753 Test0 Accuracy 0.7651515151515151\n",
      "Epoch 200 Test1 Loss 0.17615647602858198 Test1 Accuracy 0.9358974358974359\n"
     ]
    },
    {
     "data": {
      "image/png": "[encoded data removed]",
      "text/plain": [
       "<Figure size 432x288 with 1 Axes>"
      ]
     },
     "metadata": {
      "needs_background": "light"
     },
     "output_type": "display_data"
    },
    {
     "name": "stdout",
     "output_type": "stream",
     "text": [
      "--------------------------------------------------\n",
      "case2\n",
      " train class balance 0.6409319043159485\n",
      " train class balance 0.6404109597206116\n",
      "Epoch 200 Training Loss 0.23268403395004297 Training Accuracy 0.9005474452554745\n",
      "Epoch 200 Test Loss 0.28520703605055564 Test Accuracy 0.8743169398907104\n",
      "Epoch 200 Test0 Loss 0.4622348692042358 Test0 Accuracy 0.7765151515151515\n",
      "Epoch 200 Test1 Loss 0.18490089258401948 Test1 Accuracy 0.9294871794871795\n"
     ]
    },
    {
     "data": {
      "image/png": "[encoded data removed]",
      "text/plain": [
       "<Figure size 432x288 with 1 Axes>"
      ]
     },
     "metadata": {
      "needs_background": "light"
     },
     "output_type": "display_data"
    },
    {
     "name": "stdout",
     "output_type": "stream",
     "text": [
      "--------------------------------------------------\n",
      "case3\n",
      " train class balance 0.6409319043159485\n",
      " train class balance 0.6404109597206116\n",
      "Epoch 200 Training Loss 0.21261724198991636 Training Accuracy 0.9092153284671532\n",
      "Epoch 200 Test Loss 0.29557634184971615 Test Accuracy 0.8756830601092896\n",
      "Epoch 200 Test0 Loss 0.4472899547157188 Test0 Accuracy 0.803030303030303\n",
      "Epoch 200 Test1 Loss 0.20842870987123913 Test1 Accuracy 0.9166666666666666\n"
     ]
    },
    {
     "data": {
      "image/png": "[encoded data removed]",
      "text/plain": [
       "<Figure size 432x288 with 1 Axes>"
      ]
     },
     "metadata": {
      "needs_background": "light"
     },
     "output_type": "display_data"
    },
    {
     "name": "stdout",
     "output_type": "stream",
     "text": [
      "--------------------------------------------------\n",
      "case4\n",
      " train class balance 0.6409319043159485\n",
      " train class balance 0.6404109597206116\n",
      "Epoch 200 Training Loss 0.1362567196369008 Training Accuracy 0.9452554744525548\n",
      "Epoch 200 Test Loss 0.24644292651268823 Test Accuracy 0.9016393442622951\n",
      "Epoch 200 Test0 Loss 0.40442120886732347 Test0 Accuracy 0.8352272727272727\n",
      "Epoch 200 Test1 Loss 0.1562805059512691 Test1 Accuracy 0.9391025641025641\n"
     ]
    },
    {
     "data": {
      "image/png": "[encoded data removed]",
      "text/plain": [
       "<Figure size 432x288 with 1 Axes>"
      ]
     },
     "metadata": {
      "needs_background": "light"
     },
     "output_type": "display_data"
    },
    {
     "name": "stdout",
     "output_type": "stream",
     "text": [
      "--------------------------------------------------\n",
      "case4b\n",
      " train class balance 0.6409319043159485\n",
      " train class balance 0.6404109597206116\n",
      "Epoch 200 Training Loss 0.10330163718196546 Training Accuracy 0.9571167883211679\n",
      "Epoch 200 Test Loss 0.18954310729406912 Test Accuracy 0.9241803278688525\n",
      "Epoch 200 Test0 Loss 0.32102867248150607 Test0 Accuracy 0.8693181818181818\n",
      "Epoch 200 Test1 Loss 0.11411100478482664 Test1 Accuracy 0.9551282051282052\n"
     ]
    },
    {
     "data": {
      "image/png": "[encoded data removed]",
      "text/plain": [
       "<Figure size 432x288 with 1 Axes>"
      ]
     },
     "metadata": {
      "needs_background": "light"
     },
     "output_type": "display_data"
    },
    {
     "name": "stdout",
     "output_type": "stream",
     "text": [
      "--------------------------------------------------\n",
      "case5\n",
      " train class balance 0.6409319043159485\n",
      " train class balance 0.6404109597206116\n",
      "Epoch 200 Training Loss 0.13157519100261103 Training Accuracy 0.9443430656934306\n",
      "Epoch 200 Test Loss 0.24267853463776 Test Accuracy 0.894808743169399\n",
      "Epoch 200 Test0 Loss 0.3965308098545806 Test0 Accuracy 0.8295454545454546\n",
      "Epoch 200 Test1 Loss 0.15507700017147943 Test1 Accuracy 0.9316239316239316\n"
     ]
    },
    {
     "data": {
      "image/png": "[encoded data removed]",
      "text/plain": [
       "<Figure size 432x288 with 1 Axes>"
      ]
     },
     "metadata": {
      "needs_background": "light"
     },
     "output_type": "display_data"
    },
    {
     "name": "stdout",
     "output_type": "stream",
     "text": [
      "--------------------------------------------------\n",
      "case6\n",
      " train class balance 0.6409319043159485\n",
      " train class balance 0.6404109597206116\n",
      "Epoch 200 Training Loss 0.10797890685039851 Training Accuracy 0.9571167883211679\n",
      "Epoch 200 Test Loss 0.27927681590386544 Test Accuracy 0.8900273224043715\n",
      "Epoch 200 Test0 Loss 0.445326412078099 Test0 Accuracy 0.821969696969697\n",
      "Epoch 200 Test1 Loss 0.1836506854553715 Test1 Accuracy 0.9284188034188035\n"
     ]
    },
    {
     "data": {
      "image/png": "[encoded data removed]",
      "text/plain": [
       "<Figure size 432x288 with 1 Axes>"
      ]
     },
     "metadata": {
      "needs_background": "light"
     },
     "output_type": "display_data"
    },
    {
     "name": "stdout",
     "output_type": "stream",
     "text": [
      "--------------------------------------------------\n",
      "case7\n",
      " train class balance 0.6409319043159485\n",
      " train class balance 0.6404109597206116\n",
      "Epoch 200 Training Loss 0.10622898922374058 Training Accuracy 0.9552919708029197\n",
      "Epoch 200 Test Loss 0.272997987986055 Test Accuracy 0.894808743169399\n",
      "Epoch 200 Test0 Loss 0.48833433498855977 Test0 Accuracy 0.8106060606060606\n",
      "Epoch 200 Test1 Loss 0.15091866081004413 Test1 Accuracy 0.9423076923076923\n"
     ]
    },
    {
     "data": {
      "image/png": "[encoded data removed]",
      "text/plain": [
       "<Figure size 432x288 with 1 Axes>"
      ]
     },
     "metadata": {
      "needs_background": "light"
     },
     "output_type": "display_data"
    }
   ],
   "source": [
    "select_X_columns={ \n",
    "\n",
    "    'case1':['n_discharges', 'n_md_staff', 'n_app_staff', 'n_nurse_staff'],\n",
    "    \n",
    "    'case2':['n_discharges', 'n_md_staff', 'n_app_staff', 'n_nurse_staff',\n",
    "             'n_cm_staff', 'n_pharm_staff', 'n_bed_staff'],\n",
    "\n",
    "    'case3':['n_discharges', 'n_md_staff', 'n_app_staff', 'n_nurse_staff', \n",
    "             'n_cm_staff', 'n_pharm_staff', 'n_bed_staff', \n",
    "             'perc_transport_cases', 'perc_equipment_cases', 'perc_cm_cases'],\n",
    "\n",
    "    'case4':['n_discharges', 'n_md_staff', 'n_app_staff', 'n_nurse_staff',\n",
    "             'n_cm_staff', 'n_pharm_staff', 'n_bed_staff',\n",
    "             'perc_transport_cases', 'perc_equipment_cases', 'perc_cm_cases', 'rounding_start'],\n",
    "    \n",
    "    'case4b':['n_discharges', 'n_md_staff', 'n_app_staff', 'n_nurse_staff',\n",
    "             'n_cm_staff', 'n_pharm_staff', 'n_bed_staff',\n",
    "             'perc_transport_cases', 'perc_equipment_cases', 'perc_cm_cases', 'rounding_start',\n",
    "             'percent_discharge_before_13'],\n",
    "\n",
    "    'case5':['n_discharges', 'n_md_staff', 'n_app_staff', 'n_nurse_staff',\n",
    "             'n_cm_staff', 'n_pharm_staff', 'n_bed_staff',\n",
    "             'perc_transport_cases', 'perc_equipment_cases', 'perc_cm_cases', 'rounding_start',\n",
    "            'percent_home_floor'],\n",
    "    \n",
    "    'case6':['n_discharges', 'n_md_staff', 'n_app_staff', 'n_nurse_staff',\n",
    "             'n_cm_staff', 'n_pharm_staff', 'n_bed_staff',\n",
    "             'perc_transport_cases', 'perc_equipment_cases', 'perc_cm_cases', 'rounding_start',\n",
    "            'percent_home_floor',\n",
    "             'perc_cm_trans_cases','perc_cm_equip_cases', 'perc_cm_trans_med_cases',\n",
    "                    'perc_cm_equip_med_cases'],\n",
    "    \n",
    "    'case7':['n_discharges', 'n_md_staff', 'n_app_staff', 'n_nurse_staff',\n",
    "             'n_cm_staff', 'n_pharm_staff', 'n_bed_staff',\n",
    "             'perc_transport_cases', 'perc_equipment_cases', 'perc_cm_cases', 'rounding_start',\n",
    "            'percent_home_floor',\n",
    "             'perc_cm_trans_cases','perc_cm_equip_cases', 'perc_cm_trans_med_cases',\n",
    "                    'perc_cm_equip_med_cases', 'perc_cm_equip_trans_cases','perc_cm_equip_trans_med_cases']\n",
    "}\n",
    "\n",
    "select_y_column = ['avg_discharge_before_13']\n",
    "\n",
    "for case_ in select_X_columns.keys():\n",
    "    print(\"-\"*50)\n",
    "    print(case_)\n",
    "    \n",
    "    # select X features\n",
    "    X_features = select_X_columns[case_]\n",
    "    \n",
    "    # build input\n",
    "    X_train, y_train, X_test, y_test, X_test0, y_test0, X_test1, y_test1, scaler = build_inputs(df, X_features, select_y_column, test_size=0.4, X_pad=20)\n",
    "\n",
    "    trainset = TensorDataset(torch.from_numpy(X_train), torch.from_numpy(y_train))\n",
    "    testset = TensorDataset(torch.from_numpy(X_test), torch.from_numpy(y_test))\n",
    "    testset0 = TensorDataset(torch.from_numpy(X_test0), torch.from_numpy(y_test0))\n",
    "    testset1 = TensorDataset(torch.from_numpy(X_test1), torch.from_numpy(y_test1))\n",
    "\n",
    "    # build model\n",
    "    NUM_INPUTS = X_train.shape[1]\n",
    "    NUM_HIDDEN_LAYERS = 5\n",
    "    NUM_HIDDEN_NODES = 40\n",
    "\n",
    "    model, optimizer, loss_function = create_model(n_inputs=NUM_INPUTS, n_hidden_layers=NUM_HIDDEN_LAYERS, n_hidden_nodes=NUM_HIDDEN_NODES)\n",
    "    model\n",
    "\n",
    "    # training param\n",
    "    epochs = 201\n",
    "    batch_size = 8\n",
    "    threshold = 0.5\n",
    "    n_epoch_list, train_acc_list, test_acc_list, test0_acc_list ,test1_acc_list  = train_model(model, loss_function, optimizer, trainset, testset, testset0, testset1, epochs, batch_size, threshold, verbose=False)\n",
    "    plt.plot(n_epoch_list, train_acc_list, label='train') \n",
    "    plt.plot(n_epoch_list, test_acc_list, label='test')\n",
    "    plt.plot(n_epoch_list, test0_acc_list, label='test late')\n",
    "    plt.plot(n_epoch_list, test1_acc_list, label='test early')\n",
    "    plt.legend()\n",
    "    plt.show()"
   ]
  },
  {
   "cell_type": "markdown",
   "id": "9bb9af07-9e38-4dae-9450-53a075426012",
   "metadata": {},
   "source": [
    "### Best Case"
   ]
  },
  {
   "cell_type": "code",
   "execution_count": 45,
   "id": "36203066-ac6e-4658-a3b8-b28003f594e0",
   "metadata": {},
   "outputs": [
    {
     "name": "stdout",
     "output_type": "stream",
     "text": [
      " train class balance 0.6406821012496948\n",
      " train class balance 0.6410958766937256\n",
      "Epoch 500 Training Loss 0.0877908610854167 Training Accuracy 0.9677615571776156\n",
      "Epoch 500 Test Loss 0.4015279054061545 Test Accuracy 0.8586956521739131\n"
     ]
    }
   ],
   "source": [
    "X_features = ['n_discharges', 'n_md_staff', 'n_app_staff', 'n_nurse_staff',\n",
    "             'n_cm_staff', 'n_pharm_staff', 'n_bed_staff',\n",
    "             'perc_transport_cases', 'perc_equipment_cases', 'perc_cm_cases', 'rounding_start']\n",
    "\n",
    "y_feature = ['avg_discharge_before_13']\n",
    "\n",
    "\n",
    "X_train, y_train, X_test, y_test, X_test0, y_test0, X_test1, y_test1, scaler = build_inputs(df, X_features, y_feature, test_size=0.1, X_pad=20)\n",
    "\n",
    "trainset = TensorDataset(torch.from_numpy(X_train), torch.from_numpy(y_train))\n",
    "testset = TensorDataset(torch.from_numpy(X_test), torch.from_numpy(y_test))\n",
    "\n",
    "# build model\n",
    "NUM_INPUTS = X_train.shape[1]\n",
    "NUM_HIDDEN_LAYERS = 5\n",
    "NUM_HIDDEN_NODES = 40\n",
    "\n",
    "model, optimizer, loss_function = create_model(n_inputs=NUM_INPUTS, n_hidden_layers=NUM_HIDDEN_LAYERS, n_hidden_nodes=NUM_HIDDEN_NODES)\n",
    "model\n",
    "\n",
    "# select GPU if available\n",
    "device = torch.device(\"cuda\" if torch.cuda.is_available() else \"cpu\")\n",
    "model.to(device)\n",
    "\n",
    "# training param\n",
    "epochs = 301\n",
    "batch_size = 8\n",
    "threshold = 0.5\n",
    "verbose=False\n",
    "\n",
    "\n",
    "# Dataloaders\n",
    "trainloader = DataLoader(trainset, batch_size=batch_size, shuffle=True)\n",
    "testloader = DataLoader(testset, batch_size=batch_size, shuffle=False)\n",
    "    \n",
    "\n",
    "n_epoch_list, train_acc_list, test_acc_list, test_pred_list = [], [], [], []\n",
    "\n",
    "# Iterate for N epochs\n",
    "for i in range(epochs):\n",
    "\n",
    "    # Train\n",
    "    model.train()\n",
    "    train_loss = 0.0\n",
    "    train_correct = 0\n",
    "    train_batches = 0\n",
    "    for inputs, targets in trainloader:\n",
    "        inputs, targets = inputs.to(device), targets.to(device)\n",
    "        optimizer.zero_grad()\n",
    "        outputs = model(inputs)\n",
    "        loss = loss_function(outputs, targets)\n",
    "        train_correct += (outputs.data.ge(threshold) == targets).sum().item()\n",
    "        train_batches += 1\n",
    "        train_loss += loss.item()\n",
    "        loss.backward()\n",
    "        optimizer.step()\n",
    "\n",
    "    train_loss = train_loss / train_batches\n",
    "    train_acc = train_correct / (train_batches * batch_size)\n",
    "    if i%10==0:\n",
    "        n_epoch_list.append(i)\n",
    "        train_acc_list.append(train_acc)\n",
    "    if verbose: print(f\"Epoch {i} Training Loss {train_loss} Training Accuracy {train_acc}\")\n",
    "    if i==epochs-1:\n",
    "        print(f\"Epoch {i} Training Loss {train_loss} Training Accuracy {train_acc}\")\n",
    "\n",
    "    # Evaluate Testset\n",
    "    model.eval()\n",
    "    test_loss = 0.0\n",
    "    test_correct = 0\n",
    "    test_batches = 0\n",
    "    for inputs, targets in testloader:\n",
    "        inputs, targets = inputs.to(device), targets.to(device)\n",
    "        outputs = model(inputs)\n",
    "        loss = loss_function(outputs, targets)\n",
    "        test_correct += (outputs.data.ge(threshold) == targets).sum().item()\n",
    "        test_batches += 1\n",
    "        test_loss += loss.item()\n",
    "\n",
    "    test_loss = test_loss / test_batches\n",
    "    test_acc = test_correct / (test_batches * batch_size)\n",
    "    if i%10==0:\n",
    "        test_acc_list.append(test_acc)\n",
    "    if verbose: print(f\"Epoch {i} Test Loss {test_loss} Test Accuracy {test_acc}\")\n",
    "    if i==epochs-1:\n",
    "        print(f\"Epoch {i} Test Loss {test_loss} Test Accuracy {test_acc}\")"
   ]
  },
  {
   "cell_type": "markdown",
   "id": "c8ee820c-a011-4287-81db-c076dcf9c838",
   "metadata": {},
   "source": [
    "## Inference"
   ]
  },
  {
   "cell_type": "code",
   "execution_count": 46,
   "id": "40117f0b-10a6-4ce6-af5a-5fe3656d1555",
   "metadata": {},
   "outputs": [
    {
     "name": "stdout",
     "output_type": "stream",
     "text": [
      " train class balance 0.6406035423278809\n",
      " train class balance 0.75\n",
      "Data 0.6406035423278809\n",
      "Model Prediction 0.6883401920438957\n",
      "Model Accuracy 0.9423868060112\n"
     ]
    }
   ],
   "source": [
    "X_features = ['n_discharges', 'n_md_staff', 'n_app_staff', 'n_nurse_staff',\n",
    "             'n_cm_staff', 'n_pharm_staff', 'n_bed_staff',\n",
    "             'perc_transport_cases', 'perc_equipment_cases', 'perc_cm_cases', 'rounding_start']\n",
    "\n",
    "y_feature = ['avg_discharge_before_13']\n",
    "\n",
    "X_eval, y_eval, X_, y_, X_0, y_0, X_1, y_1,_ = build_inputs(df, X_features, y_feature, test_size=0.001, X_pad=20, scaler=scaler)\n",
    "\n",
    "print(f\"Data {y_eval.mean()}\")\n",
    "outputs = model(torch.from_numpy(X_eval))\n",
    "print(f\"Model Prediction {outputs.ge(threshold).numpy().mean()}\")\n",
    "targets = torch.from_numpy(y_eval)\n",
    "accuracy = (outputs.data.ge(threshold) == targets).sum()/targets.shape[0]\n",
    "print(f\"Model Accuracy {accuracy}\")"
   ]
  },
  {
   "cell_type": "code",
   "execution_count": 47,
   "id": "d666f891-e419-40f8-b02c-6ce90e4c0aaa",
   "metadata": {},
   "outputs": [
    {
     "data": {
      "text/plain": [
       "<AxesSubplot:>"
      ]
     },
     "execution_count": 47,
     "metadata": {},
     "output_type": "execute_result"
    },
    {
     "data": {
      "image/png": "[encoded data removed]",
      "text/plain": [
       "<Figure size 432x288 with 1 Axes>"
      ]
     },
     "metadata": {
      "needs_background": "light"
     },
     "output_type": "display_data"
    }
   ],
   "source": [
    "df.rounding_start.hist(bins=10)"
   ]
  },
  {
   "cell_type": "code",
   "execution_count": 48,
   "id": "197e089f-98f2-4808-b298-972d6f445f7b",
   "metadata": {},
   "outputs": [],
   "source": [
    "bins = [400, 450, 465, 480, 495, 510]\n",
    "df['binned'] = pd.cut(df['rounding_start'], bins, labels=['1','2','3','4','5'])"
   ]
  },
  {
   "cell_type": "code",
   "execution_count": 49,
   "id": "0f04b440-e823-4dd6-863d-ed5ba46b81fb",
   "metadata": {},
   "outputs": [
    {
     "data": {
      "text/plain": [
       "0       3\n",
       "1       1\n",
       "2       3\n",
       "3       3\n",
       "4       4\n",
       "       ..\n",
       "3644    2\n",
       "3645    3\n",
       "3646    2\n",
       "3647    1\n",
       "3648    3\n",
       "Name: binned, Length: 3649, dtype: category\n",
       "Categories (5, object): ['1' < '2' < '3' < '4' < '5']"
      ]
     },
     "execution_count": 49,
     "metadata": {},
     "output_type": "execute_result"
    }
   ],
   "source": [
    "df.binned"
   ]
  },
  {
   "cell_type": "code",
   "execution_count": 50,
   "id": "e04fa91d-3f30-4f2d-a38a-e63cec7eeb3b",
   "metadata": {},
   "outputs": [
    {
     "name": "stdout",
     "output_type": "stream",
     "text": [
      "1\n",
      " train class balance 0.35555556416511536\n",
      " train class balance 0.3611111044883728\n",
      "bin 1 Data 0.3611111044883728\n",
      "bin 1 Model Prediction 0.3611111111111111\n",
      "bin 1 Model Accuracy 1.0\n",
      "2\n",
      " train class balance 0.22962963581085205\n",
      " train class balance 0.2368421107530594\n",
      "bin 2 Data 0.2368421107530594\n",
      "bin 2 Model Prediction 0.23684210526315788\n",
      "bin 2 Model Accuracy 1.0\n",
      "3\n",
      " train class balance 0.8969607353210449\n",
      " train class balance 0.8999999761581421\n",
      "bin 3 Data 0.8999999761581421\n",
      "bin 3 Model Prediction 0.94\n",
      "bin 3 Model Accuracy 0.9599999785423279\n",
      "4\n",
      " train class balance 0.7313195466995239\n",
      " train class balance 0.7285714149475098\n",
      "bin 4 Data 0.7285714149475098\n",
      "bin 4 Model Prediction 0.8285714285714286\n",
      "bin 4 Model Accuracy 0.8999999761581421\n",
      "5\n",
      " train class balance 0.5286624431610107\n",
      " train class balance 0.5142857432365417\n",
      "bin 5 Data 0.5142857432365417\n",
      "bin 5 Model Prediction 0.6285714285714286\n",
      "bin 5 Model Accuracy 0.8857142925262451\n"
     ]
    }
   ],
   "source": [
    "X_features = ['n_discharges', 'n_md_staff', 'n_app_staff', 'n_nurse_staff',\n",
    "             'n_cm_staff', 'n_pharm_staff', 'n_bed_staff',\n",
    "             'perc_transport_cases', 'perc_equipment_cases', 'perc_cm_cases', 'rounding_start']\n",
    "\n",
    "y_feature = ['avg_discharge_before_13']\n",
    "\n",
    "trainset = TensorDataset(torch.from_numpy(X_train), torch.from_numpy(y_train))\n",
    "\n",
    "\n",
    "for bin_, g in df.groupby('binned'):\n",
    "    print(bin_)\n",
    "    X_test = g[X_features]\n",
    "    y_test = g[y_feature]\n",
    "    X_eval, y_eval, X_, y_, X_0, y_0, X_1, y_1,_ = build_inputs(g, X_features, y_feature, test_size=0.1, X_pad=20, scaler=scaler)\n",
    "    print(f\"bin {bin_} Data {y_.mean()}\")\n",
    "    outputs = model(torch.from_numpy(X_))\n",
    "    print(f\"bin {bin_} Model Prediction {outputs.ge(threshold).numpy().mean()}\")\n",
    "    targets = torch.from_numpy(y_)\n",
    "    accuracy = (outputs.data.ge(threshold) == targets).sum()/targets.shape[0]\n",
    "    print(f\"bin {bin_} Model Accuracy {accuracy}\")"
   ]
  },
  {
   "cell_type": "markdown",
   "id": "6117dd2b-dbf1-46fb-9fe0-4035c42f9da1",
   "metadata": {},
   "source": [
    "#### MDs"
   ]
  },
  {
   "cell_type": "code",
   "execution_count": 51,
   "id": "33ff3906-2255-4c57-a24f-b9ca7fc1d581",
   "metadata": {
    "tags": []
   },
   "outputs": [
    {
     "data": {
      "text/plain": [
       "<AxesSubplot:>"
      ]
     },
     "execution_count": 51,
     "metadata": {},
     "output_type": "execute_result"
    },
    {
     "data": {
      "image/png": "[encoded data removed]",
      "text/plain": [
       "<Figure size 432x288 with 1 Axes>"
      ]
     },
     "metadata": {
      "needs_background": "light"
     },
     "output_type": "display_data"
    }
   ],
   "source": [
    "df.n_md_staff.hist(bins=10)"
   ]
  },
  {
   "cell_type": "code",
   "execution_count": 52,
   "id": "56164b53-9bd9-4ea6-9db6-fa4874443be3",
   "metadata": {},
   "outputs": [],
   "source": [
    "bins = [0,1,2,3,4]\n",
    "df['binned'] = pd.cut(df['n_md_staff'], bins, labels=['1','2','3','4'])"
   ]
  },
  {
   "cell_type": "code",
   "execution_count": 53,
   "id": "305f8025-76a0-448d-95e1-ed5fe178a826",
   "metadata": {
    "tags": []
   },
   "outputs": [
    {
     "name": "stdout",
     "output_type": "stream",
     "text": [
      "1\n",
      " train class balance 0.27285513281822205\n",
      " train class balance 0.27848100662231445\n",
      "bin 1 Data 0.27848100662231445\n",
      "bin 1 Model Prediction 0.31645569620253167\n",
      "bin 1 Model Accuracy 0.9620253443717957\n",
      "2\n",
      " train class balance 0.6677419543266296\n",
      " train class balance 0.6730769276618958\n",
      "bin 2 Data 0.6730769276618958\n",
      "bin 2 Model Prediction 0.7307692307692307\n",
      "bin 2 Model Accuracy 0.942307710647583\n",
      "3\n",
      " train class balance 0.7398189902305603\n",
      " train class balance 0.7373737096786499\n",
      "bin 3 Data 0.7373737096786499\n",
      "bin 3 Model Prediction 0.7474747474747475\n",
      "bin 3 Model Accuracy 0.9292929172515869\n",
      "4\n",
      " train class balance 0.8361955285072327\n",
      " train class balance 0.8352941274642944\n",
      "bin 4 Data 0.8352941274642944\n",
      "bin 4 Model Prediction 0.9058823529411765\n",
      "bin 4 Model Accuracy 0.9058823585510254\n"
     ]
    }
   ],
   "source": [
    "X_features = ['n_discharges', 'n_md_staff', 'n_app_staff', 'n_nurse_staff',\n",
    "             'n_cm_staff', 'n_pharm_staff', 'n_bed_staff',\n",
    "             'perc_transport_cases', 'perc_equipment_cases', 'perc_cm_cases', 'rounding_start']\n",
    "\n",
    "y_feature = ['avg_discharge_before_13']\n",
    "\n",
    "trainset = TensorDataset(torch.from_numpy(X_train), torch.from_numpy(y_train))\n",
    "\n",
    "\n",
    "for bin_, g in df.groupby('binned'):\n",
    "    print(bin_)\n",
    "    X_test = g[X_features]\n",
    "    y_test = g[y_feature]\n",
    "    X_eval, y_eval, X_, y_, X_0, y_0, X_1, y_1,_ = build_inputs(g, X_features, y_feature, test_size=0.1, X_pad=20, scaler=scaler)\n",
    "    print(f\"bin {bin_} Data {y_.mean()}\")\n",
    "    outputs = model(torch.from_numpy(X_))\n",
    "    print(f\"bin {bin_} Model Prediction {outputs.ge(threshold).numpy().mean()}\")\n",
    "    targets = torch.from_numpy(y_)\n",
    "    accuracy = (outputs.data.ge(threshold) == targets).sum()/targets.shape[0]\n",
    "    print(f\"bin {bin_} Model Accuracy {accuracy}\")"
   ]
  },
  {
   "cell_type": "markdown",
   "id": "80cc46c0-46c3-4744-b415-d8e1cb0dba2c",
   "metadata": {},
   "source": [
    "#### Nurse"
   ]
  },
  {
   "cell_type": "code",
   "execution_count": 54,
   "id": "7fcba406-f8e5-4fa2-b8f5-4371f873fe36",
   "metadata": {},
   "outputs": [
    {
     "data": {
      "text/plain": [
       "<AxesSubplot:>"
      ]
     },
     "execution_count": 54,
     "metadata": {},
     "output_type": "execute_result"
    },
    {
     "data": {
      "image/png": "[encoded data removed]",
      "text/plain": [
       "<Figure size 432x288 with 1 Axes>"
      ]
     },
     "metadata": {
      "needs_background": "light"
     },
     "output_type": "display_data"
    }
   ],
   "source": [
    "df.n_nurse_staff.hist(bins=10)"
   ]
  },
  {
   "cell_type": "code",
   "execution_count": 55,
   "id": "5c0aab18-e766-4214-bfb6-68fd27eaa571",
   "metadata": {},
   "outputs": [],
   "source": [
    "bins = [7, 8, 9, 13]\n",
    "df['binned'] = pd.cut(df['n_nurse_staff'], bins, labels=['1','2','3'])"
   ]
  },
  {
   "cell_type": "code",
   "execution_count": 56,
   "id": "b6d25a44-42d9-4bf2-ac22-a09a65d6ef1f",
   "metadata": {},
   "outputs": [
    {
     "name": "stdout",
     "output_type": "stream",
     "text": [
      "1\n",
      " train class balance 0.660054087638855\n",
      " train class balance 0.6666666865348816\n",
      "bin 1 Data 0.6666666865348816\n",
      "bin 1 Model Prediction 0.6666666666666666\n",
      "bin 1 Model Accuracy 1.0\n",
      "2\n",
      " train class balance 0.6455921530723572\n",
      " train class balance 0.6666666865348816\n",
      "bin 2 Data 0.6666666865348816\n",
      "bin 2 Model Prediction 0.6666666666666666\n",
      "bin 2 Model Accuracy 1.0\n",
      "3\n",
      " train class balance 0.6207396388053894\n",
      " train class balance 0.6428571343421936\n",
      "bin 3 Data 0.6428571343421936\n",
      "bin 3 Model Prediction 0.7142857142857143\n",
      "bin 3 Model Accuracy 0.9285714030265808\n"
     ]
    }
   ],
   "source": [
    "X_features = ['n_discharges', 'n_md_staff', 'n_app_staff', 'n_nurse_staff',\n",
    "             'n_cm_staff', 'n_pharm_staff', 'n_bed_staff',\n",
    "             'perc_transport_cases', 'perc_equipment_cases', 'perc_cm_cases', 'rounding_start']\n",
    "\n",
    "y_feature = ['avg_discharge_before_13']\n",
    "\n",
    "trainset = TensorDataset(torch.from_numpy(X_train), torch.from_numpy(y_train))\n",
    "\n",
    "\n",
    "for bin_, g in df.groupby('binned'):\n",
    "    print(bin_)\n",
    "    X_test = g[X_features]\n",
    "    y_test = g[y_feature]\n",
    "    X_eval, y_eval, X_, y_, X_0, y_0, X_1, y_1,_ = build_inputs(g, X_features, y_feature, test_size=0.01, X_pad=20, scaler=scaler)\n",
    "    print(f\"bin {bin_} Data {y_.mean()}\")\n",
    "    outputs = model(torch.from_numpy(X_))\n",
    "    print(f\"bin {bin_} Model Prediction {outputs.ge(threshold).numpy().mean()}\")\n",
    "    targets = torch.from_numpy(y_)\n",
    "    accuracy = (outputs.data.ge(threshold) == targets).sum()/targets.shape[0]\n",
    "    print(f\"bin {bin_} Model Accuracy {accuracy}\")"
   ]
  },
  {
   "cell_type": "markdown",
   "id": "0b72a6fd-eba8-4f16-8496-7e3e756b6dde",
   "metadata": {},
   "source": [
    "#### APP"
   ]
  },
  {
   "cell_type": "code",
   "execution_count": 255,
   "id": "24a8639f-bcef-4b2d-a846-e54c53a919b5",
   "metadata": {
    "tags": []
   },
   "outputs": [
    {
     "data": {
      "text/plain": [
       "<AxesSubplot:>"
      ]
     },
     "execution_count": 255,
     "metadata": {},
     "output_type": "execute_result"
    },
    {
     "data": {
      "image/png": "[encoded data removed]",
      "text/plain": [
       "<Figure size 432x288 with 1 Axes>"
      ]
     },
     "metadata": {
      "needs_background": "light"
     },
     "output_type": "display_data"
    }
   ],
   "source": [
    "df.n_app_staff.hist(bins=10)"
   ]
  },
  {
   "cell_type": "code",
   "execution_count": 256,
   "id": "9644928e-ae9b-406b-ab96-dad5227bc4bf",
   "metadata": {},
   "outputs": [],
   "source": [
    "bins = [0, 4,5,6]\n",
    "df['binned'] = pd.cut(df['n_app_staff'], bins, labels=['1','2','3'])"
   ]
  },
  {
   "cell_type": "code",
   "execution_count": 33,
   "id": "78b9d10b-dd2a-42d5-80b6-b3b2fdb7836b",
   "metadata": {
    "tags": []
   },
   "outputs": [
    {
     "name": "stdout",
     "output_type": "stream",
     "text": [
      "1\n",
      " train class balance 0.27365729212760925\n",
      " train class balance 0.25\n",
      "bin 1 Data 0.27365729212760925\n",
      "bin 1 Model Prediction 0.309462915601023\n",
      "bin 1 Model Accuracy 0.9462915658950806\n",
      "2\n",
      " train class balance 0.6686217188835144\n",
      " train class balance 0.6363636255264282\n",
      "bin 2 Data 0.6686217188835144\n",
      "bin 2 Model Prediction 0.7311827956989247\n",
      "bin 2 Model Accuracy 0.9042032957077026\n",
      "3\n",
      " train class balance 0.7399794459342957\n",
      " train class balance 0.699999988079071\n",
      "bin 3 Data 0.7399794459342957\n",
      "bin 3 Model Prediction 0.8972250770811921\n",
      "bin 3 Model Accuracy 0.8304213881492615\n",
      "4\n",
      " train class balance 0.8355342149734497\n",
      " train class balance 0.8888888955116272\n",
      "bin 4 Data 0.8355342149734497\n",
      "bin 4 Model Prediction 0.9543817527010804\n",
      "bin 4 Model Accuracy 0.8643457293510437\n"
     ]
    }
   ],
   "source": [
    "X_features = ['n_discharges', 'n_md_staff', 'n_app_staff', 'n_nurse_staff',\n",
    "             'n_cm_staff', 'n_pharm_staff', 'n_bed_staff',\n",
    "             'perc_transport_cases', 'perc_equipment_cases', 'perc_cm_cases', 'rounding_start']\n",
    "\n",
    "y_feature = ['avg_discharge_before_13']\n",
    "\n",
    "trainset = TensorDataset(torch.from_numpy(X_train), torch.from_numpy(y_train))\n",
    "\n",
    "\n",
    "for bin_, g in df.groupby('binned'):\n",
    "    print(bin_)\n",
    "    X_test = g[X_features]\n",
    "    y_test = g[y_feature]\n",
    "    X_eval, y_eval, X_, y_, X_0, y_0, X_1, y_1,_ = build_inputs(g, X_features, y_feature, test_size=0.01, X_pad=20, scaler=scaler)\n",
    "    print(f\"bin {bin_} Data {y_.mean()}\")\n",
    "    outputs = model(torch.from_numpy(X_))\n",
    "    print(f\"bin {bin_} Model Prediction {outputs.ge(threshold).numpy().mean()}\")\n",
    "    targets = torch.from_numpy(y_)\n",
    "    accuracy = (outputs.data.ge(threshold) == targets).sum()/targets.shape[0]\n",
    "    print(f\"bin {bin_} Model Accuracy {accuracy}\")"
   ]
  }
 ],
 "metadata": {
  "kernelspec": {
   "display_name": "Python [conda env:pytorch]",
   "language": "python",
   "name": "conda-env-pytorch-py"
  },
  "language_info": {
   "codemirror_mode": {
    "name": "ipython",
    "version": 3
   },
   "file_extension": ".py",
   "mimetype": "text/x-python",
   "name": "python",
   "nbconvert_exporter": "python",
   "pygments_lexer": "ipython3",
   "version": "3.10.5"
  }
 },
 "nbformat": 4,
 "nbformat_minor": 5
}
