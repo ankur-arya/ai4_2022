{
 "cells": [
  {
   "cell_type": "code",
   "execution_count": 1,
   "id": "6243295e-8c3c-4dd5-a0b1-2e4c8817d316",
   "metadata": {},
   "outputs": [],
   "source": [
    "import numpy as np\n",
    "import pandas as pd\n",
    "import matplotlib\n",
    "import matplotlib.pyplot as plt"
   ]
  },
  {
   "cell_type": "code",
   "execution_count": 2,
   "id": "5215dd06-a92b-4eda-8a89-2c20dc8cba67",
   "metadata": {},
   "outputs": [],
   "source": [
    "params = {\n",
    "   'axes.labelsize': 14,\n",
    "   'font.size': 14,\n",
    "   'legend.fontsize': 14,\n",
    "   'xtick.labelsize': 14,\n",
    "   'ytick.labelsize': 14,\n",
    "   'text.usetex': False,\n",
    "   'figure.figsize': [6, 5]\n",
    "   }\n",
    "matplotlib.rcParams.update(params)\n",
    "cmap = matplotlib.colormaps['tab10']"
   ]
  },
  {
   "cell_type": "markdown",
   "id": "ec5ca87d-c0a2-4d71-a19d-c3be6c9bdb09",
   "metadata": {},
   "source": [
    "### Load Simulation Data (Patient Level)"
   ]
  },
  {
   "cell_type": "code",
   "execution_count": 3,
   "id": "f5c9d9c6-2894-490e-9d4f-d4c469eca507",
   "metadata": {},
   "outputs": [
    {
     "data": {
      "text/html": [
       "<div>\n",
       "<style scoped>\n",
       "    .dataframe tbody tr th:only-of-type {\n",
       "        vertical-align: middle;\n",
       "    }\n",
       "\n",
       "    .dataframe tbody tr th {\n",
       "        vertical-align: top;\n",
       "    }\n",
       "\n",
       "    .dataframe thead th {\n",
       "        text-align: right;\n",
       "    }\n",
       "</style>\n",
       "<table border=\"1\" class=\"dataframe\">\n",
       "  <thead>\n",
       "    <tr style=\"text-align: right;\">\n",
       "      <th></th>\n",
       "      <th>id</th>\n",
       "      <th>mrn</th>\n",
       "      <th>admit_id</th>\n",
       "      <th>admit_date</th>\n",
       "      <th>service</th>\n",
       "      <th>arrival_time</th>\n",
       "      <th>bed</th>\n",
       "      <th>floor</th>\n",
       "      <th>bed_assign_time</th>\n",
       "      <th>discharge_date</th>\n",
       "      <th>...</th>\n",
       "      <th>discharge_month</th>\n",
       "      <th>discharge_day</th>\n",
       "      <th>discharge_hour</th>\n",
       "      <th>discharge_dayofweek</th>\n",
       "      <th>arrival_month</th>\n",
       "      <th>arrival_day</th>\n",
       "      <th>arrival_hour</th>\n",
       "      <th>arrival_dayofweek</th>\n",
       "      <th>bed_wait_mins</th>\n",
       "      <th>LOS_hours</th>\n",
       "    </tr>\n",
       "  </thead>\n",
       "  <tbody>\n",
       "    <tr>\n",
       "      <th>0</th>\n",
       "      <td>9472191 7316185</td>\n",
       "      <td>9472191</td>\n",
       "      <td>7316185</td>\n",
       "      <td>01-01-2022</td>\n",
       "      <td>A</td>\n",
       "      <td>2022-01-01 04:59:24</td>\n",
       "      <td>1</td>\n",
       "      <td>1</td>\n",
       "      <td>2022-01-01 04:59:24</td>\n",
       "      <td>01-02-2022</td>\n",
       "      <td>...</td>\n",
       "      <td>1.0</td>\n",
       "      <td>2.0</td>\n",
       "      <td>12.0</td>\n",
       "      <td>6.0</td>\n",
       "      <td>1</td>\n",
       "      <td>1</td>\n",
       "      <td>4</td>\n",
       "      <td>5</td>\n",
       "      <td>0.0</td>\n",
       "      <td>31.228333</td>\n",
       "    </tr>\n",
       "    <tr>\n",
       "      <th>1</th>\n",
       "      <td>2794485 3646214</td>\n",
       "      <td>2794485</td>\n",
       "      <td>3646214</td>\n",
       "      <td>01-01-2022</td>\n",
       "      <td>B</td>\n",
       "      <td>2022-01-01 06:19:56</td>\n",
       "      <td>2</td>\n",
       "      <td>1</td>\n",
       "      <td>2022-01-01 06:19:56</td>\n",
       "      <td>01-02-2022</td>\n",
       "      <td>...</td>\n",
       "      <td>1.0</td>\n",
       "      <td>2.0</td>\n",
       "      <td>12.0</td>\n",
       "      <td>6.0</td>\n",
       "      <td>1</td>\n",
       "      <td>1</td>\n",
       "      <td>6</td>\n",
       "      <td>5</td>\n",
       "      <td>0.0</td>\n",
       "      <td>29.882500</td>\n",
       "    </tr>\n",
       "    <tr>\n",
       "      <th>2</th>\n",
       "      <td>3144768 1837451</td>\n",
       "      <td>3144768</td>\n",
       "      <td>1837451</td>\n",
       "      <td>01-01-2022</td>\n",
       "      <td>A</td>\n",
       "      <td>2022-01-01 06:39:52</td>\n",
       "      <td>4</td>\n",
       "      <td>1</td>\n",
       "      <td>2022-01-01 06:39:52</td>\n",
       "      <td>01-02-2022</td>\n",
       "      <td>...</td>\n",
       "      <td>1.0</td>\n",
       "      <td>2.0</td>\n",
       "      <td>12.0</td>\n",
       "      <td>6.0</td>\n",
       "      <td>1</td>\n",
       "      <td>1</td>\n",
       "      <td>6</td>\n",
       "      <td>5</td>\n",
       "      <td>0.0</td>\n",
       "      <td>29.339444</td>\n",
       "    </tr>\n",
       "    <tr>\n",
       "      <th>3</th>\n",
       "      <td>1555345 2918997</td>\n",
       "      <td>1555345</td>\n",
       "      <td>2918997</td>\n",
       "      <td>01-01-2022</td>\n",
       "      <td>A</td>\n",
       "      <td>2022-01-01 06:59:48</td>\n",
       "      <td>5</td>\n",
       "      <td>1</td>\n",
       "      <td>2022-01-01 06:59:48</td>\n",
       "      <td>01-02-2022</td>\n",
       "      <td>...</td>\n",
       "      <td>1.0</td>\n",
       "      <td>2.0</td>\n",
       "      <td>12.0</td>\n",
       "      <td>6.0</td>\n",
       "      <td>1</td>\n",
       "      <td>1</td>\n",
       "      <td>6</td>\n",
       "      <td>5</td>\n",
       "      <td>0.0</td>\n",
       "      <td>29.840833</td>\n",
       "    </tr>\n",
       "    <tr>\n",
       "      <th>4</th>\n",
       "      <td>1914372 7662538</td>\n",
       "      <td>1914372</td>\n",
       "      <td>7662538</td>\n",
       "      <td>01-01-2022</td>\n",
       "      <td>B</td>\n",
       "      <td>2022-01-01 07:29:51</td>\n",
       "      <td>9</td>\n",
       "      <td>1</td>\n",
       "      <td>2022-01-01 07:29:51</td>\n",
       "      <td>01-02-2022</td>\n",
       "      <td>...</td>\n",
       "      <td>1.0</td>\n",
       "      <td>2.0</td>\n",
       "      <td>13.0</td>\n",
       "      <td>6.0</td>\n",
       "      <td>1</td>\n",
       "      <td>1</td>\n",
       "      <td>7</td>\n",
       "      <td>5</td>\n",
       "      <td>0.0</td>\n",
       "      <td>29.730833</td>\n",
       "    </tr>\n",
       "  </tbody>\n",
       "</table>\n",
       "<p>5 rows × 51 columns</p>\n",
       "</div>"
      ],
      "text/plain": [
       "                id      mrn  admit_id  admit_date service  \\\n",
       "0  9472191 7316185  9472191   7316185  01-01-2022       A   \n",
       "1  2794485 3646214  2794485   3646214  01-01-2022       B   \n",
       "2  3144768 1837451  3144768   1837451  01-01-2022       A   \n",
       "3  1555345 2918997  1555345   2918997  01-01-2022       A   \n",
       "4  1914372 7662538  1914372   7662538  01-01-2022       B   \n",
       "\n",
       "          arrival_time  bed  floor      bed_assign_time discharge_date  ...  \\\n",
       "0  2022-01-01 04:59:24    1      1  2022-01-01 04:59:24     01-02-2022  ...   \n",
       "1  2022-01-01 06:19:56    2      1  2022-01-01 06:19:56     01-02-2022  ...   \n",
       "2  2022-01-01 06:39:52    4      1  2022-01-01 06:39:52     01-02-2022  ...   \n",
       "3  2022-01-01 06:59:48    5      1  2022-01-01 06:59:48     01-02-2022  ...   \n",
       "4  2022-01-01 07:29:51    9      1  2022-01-01 07:29:51     01-02-2022  ...   \n",
       "\n",
       "   discharge_month  discharge_day  discharge_hour  discharge_dayofweek  \\\n",
       "0              1.0            2.0            12.0                  6.0   \n",
       "1              1.0            2.0            12.0                  6.0   \n",
       "2              1.0            2.0            12.0                  6.0   \n",
       "3              1.0            2.0            12.0                  6.0   \n",
       "4              1.0            2.0            13.0                  6.0   \n",
       "\n",
       "   arrival_month arrival_day arrival_hour arrival_dayofweek bed_wait_mins  \\\n",
       "0              1           1            4                 5           0.0   \n",
       "1              1           1            6                 5           0.0   \n",
       "2              1           1            6                 5           0.0   \n",
       "3              1           1            6                 5           0.0   \n",
       "4              1           1            7                 5           0.0   \n",
       "\n",
       "   LOS_hours  \n",
       "0  31.228333  \n",
       "1  29.882500  \n",
       "2  29.339444  \n",
       "3  29.840833  \n",
       "4  29.730833  \n",
       "\n",
       "[5 rows x 51 columns]"
      ]
     },
     "execution_count": 3,
     "metadata": {},
     "output_type": "execute_result"
    }
   ],
   "source": [
    "df = pd.read_csv('log.csv')\n",
    "df = df[df.discharge_day.notna()]\n",
    "df.head()"
   ]
  },
  {
   "cell_type": "code",
   "execution_count": 4,
   "id": "c2b83c72-3d24-4f4e-91b4-80da9a8014f6",
   "metadata": {},
   "outputs": [
    {
     "data": {
      "text/plain": [
       "Index(['id', 'mrn', 'admit_id', 'admit_date', 'service', 'arrival_time', 'bed',\n",
       "       'floor', 'bed_assign_time', 'discharge_date', 'rounding team',\n",
       "       'rounding MD', 'rounding APP', 'rounding_floor_adder', 'rounding_queue',\n",
       "       'rounding_begin_time', 'rounding_end_time',\n",
       "       'discharge_process_begin_time', 'discharge_process_end_time',\n",
       "       'discharge_process_app', 'discharge_process_nurse',\n",
       "       'pharmacist_begin_time', 'pharmacist_end_time', 'pharmacist_staff',\n",
       "       'final_discharge_time', 'bedstaff_begin_time', 'bedstaff_end_time',\n",
       "       'bedstaff_staff', 'case_management_begin_time',\n",
       "       'case_management_end_time', 'case_management_staff',\n",
       "       'transport_begin_time', 'transport_end_time', 'transport_staff',\n",
       "       'equipment_begin_time', 'equipment_end_time', 'equipment_staff',\n",
       "       'medication', 'cm', 'transport', 'equipment', 'discharge_month',\n",
       "       'discharge_day', 'discharge_hour', 'discharge_dayofweek',\n",
       "       'arrival_month', 'arrival_day', 'arrival_hour', 'arrival_dayofweek',\n",
       "       'bed_wait_mins', 'LOS_hours'],\n",
       "      dtype='object')"
      ]
     },
     "execution_count": 4,
     "metadata": {},
     "output_type": "execute_result"
    }
   ],
   "source": [
    "df.columns"
   ]
  },
  {
   "cell_type": "markdown",
   "id": "cc3114a1-1c72-4ff7-a231-40ddf82d299e",
   "metadata": {},
   "source": [
    "#### Arrival"
   ]
  },
  {
   "cell_type": "code",
   "execution_count": 5,
   "id": "a79f2378-4934-4c72-8b43-1c414861f008",
   "metadata": {},
   "outputs": [
    {
     "data": {
      "image/png": "[encoded data removed]",
      "text/plain": [
       "<Figure size 432x360 with 1 Axes>"
      ]
     },
     "metadata": {
      "needs_background": "light"
     },
     "output_type": "display_data"
    }
   ],
   "source": [
    "fig, ax = plt.subplots()\n",
    "ax.hist(df.arrival_hour.values)\n",
    "plt.show()"
   ]
  },
  {
   "cell_type": "markdown",
   "id": "971b5e79-7e5e-4cde-9957-d490470c96a0",
   "metadata": {},
   "source": [
    "#### Discharge"
   ]
  },
  {
   "cell_type": "code",
   "execution_count": 6,
   "id": "afc7445b-3a6c-4fc1-93cc-0e68bc3d7c9a",
   "metadata": {},
   "outputs": [
    {
     "data": {
      "text/plain": [
       "<AxesSubplot:>"
      ]
     },
     "execution_count": 6,
     "metadata": {},
     "output_type": "execute_result"
    },
    {
     "data": {
      "image/png": "[encoded data removed]",
      "text/plain": [
       "<Figure size 432x360 with 1 Axes>"
      ]
     },
     "metadata": {
      "needs_background": "light"
     },
     "output_type": "display_data"
    }
   ],
   "source": [
    "df.discharge_hour.hist(grid=False)"
   ]
  },
  {
   "cell_type": "markdown",
   "id": "c04e7f94-2659-4d4f-90d5-85fffb320a52",
   "metadata": {},
   "source": [
    "#### Bed Wait Time"
   ]
  },
  {
   "cell_type": "code",
   "execution_count": 7,
   "id": "dafc8ec1-6c2c-48ec-bd91-fd088c543466",
   "metadata": {},
   "outputs": [
    {
     "data": {
      "text/plain": [
       "<AxesSubplot:>"
      ]
     },
     "execution_count": 7,
     "metadata": {},
     "output_type": "execute_result"
    },
    {
     "data": {
      "image/png": "[encoded data removed]",
      "text/plain": [
       "<Figure size 432x360 with 1 Axes>"
      ]
     },
     "metadata": {
      "needs_background": "light"
     },
     "output_type": "display_data"
    }
   ],
   "source": [
    "df.bed_wait_mins.hist()"
   ]
  },
  {
   "cell_type": "code",
   "execution_count": 8,
   "id": "8aa8e94f-67b7-407a-96e3-bbb8c08d6f65",
   "metadata": {},
   "outputs": [
    {
     "data": {
      "text/plain": [
       "<AxesSubplot:>"
      ]
     },
     "execution_count": 8,
     "metadata": {},
     "output_type": "execute_result"
    },
    {
     "data": {
      "image/png": "[encoded data removed]",
      "text/plain": [
       "<Figure size 432x360 with 1 Axes>"
      ]
     },
     "metadata": {
      "needs_background": "light"
     },
     "output_type": "display_data"
    }
   ],
   "source": [
    "df[(df.bed_wait_mins>=0) & (df.bed_wait_mins<400)].bed_wait_mins.hist(bins=20)"
   ]
  },
  {
   "cell_type": "markdown",
   "id": "7a003b9f-86c0-4039-948c-f9fcfdd00e30",
   "metadata": {},
   "source": [
    "#### CDF"
   ]
  },
  {
   "cell_type": "code",
   "execution_count": 9,
   "id": "c7cdd152-1b3c-4063-9816-8094ce09d300",
   "metadata": {},
   "outputs": [
    {
     "name": "stderr",
     "output_type": "stream",
     "text": [
      "/var/folders/wv/htqckb0n0b307_3v1zfmddjh0000gn/T/ipykernel_53017/2415645516.py:1: VisibleDeprecationWarning: Passing `normed=True` on non-uniform bins has always been broken, and computes neither the probability density function nor the probability mass function. The result is only correct if the bins are uniform, when density=True will produce the same result anyway. The argument will be removed in a future version of numpy.\n",
      "  H1,X1 = np.histogram( df.discharge_hour, bins = 100, normed = True )\n",
      "/var/folders/wv/htqckb0n0b307_3v1zfmddjh0000gn/T/ipykernel_53017/2415645516.py:4: VisibleDeprecationWarning: Passing `normed=True` on non-uniform bins has always been broken, and computes neither the probability density function nor the probability mass function. The result is only correct if the bins are uniform, when density=True will produce the same result anyway. The argument will be removed in a future version of numpy.\n",
      "  H2,X2 = np.histogram( df.arrival_hour, bins = 100, normed = True )\n"
     ]
    }
   ],
   "source": [
    "H1,X1 = np.histogram( df.discharge_hour, bins = 100, normed = True )\n",
    "dx1 = X1[1]-X1[0]\n",
    "F1 = np.cumsum(H1)*dx1\n",
    "H2,X2 = np.histogram( df.arrival_hour, bins = 100, normed = True )\n",
    "dx2 = X2[1]-X2[0]\n",
    "F2 = np.cumsum(H2)*dx2"
   ]
  },
  {
   "cell_type": "code",
   "execution_count": 10,
   "id": "fa28197c-4c7f-466c-843a-5c8840574b6a",
   "metadata": {},
   "outputs": [
    {
     "data": {
      "image/png": "[encoded data removed]",
      "text/plain": [
       "<Figure size 432x360 with 1 Axes>"
      ]
     },
     "metadata": {
      "needs_background": "light"
     },
     "output_type": "display_data"
    }
   ],
   "source": [
    "plt.plot(X2[1:], F2,label='arrival',lw=2)\n",
    "plt.plot(X1[1:], F1,label='discharge', lw=2)\n",
    "#plt.legend()\n",
    "plt.show()"
   ]
  },
  {
   "cell_type": "markdown",
   "id": "22948610-0367-4deb-bd03-1aa4eb4706b4",
   "metadata": {},
   "source": [
    "#### Add Calculations"
   ]
  },
  {
   "cell_type": "code",
   "execution_count": 11,
   "id": "bb13ddab-2387-4fee-9f56-f5e911ae50d7",
   "metadata": {},
   "outputs": [],
   "source": [
    "# Home floor identifier\n",
    "df['home'] = np.array(((df.floor==1) & (df.service=='A')) | ((df.floor==2) & (df.service=='B')), dtype=np.int64)"
   ]
  },
  {
   "cell_type": "code",
   "execution_count": 12,
   "id": "eeb6a185-4202-4403-8f38-56ea5f8dd52f",
   "metadata": {},
   "outputs": [],
   "source": [
    "# Add service identifier\n",
    "df['n_service_A'] = np.array(df.service=='A', dtype=np.int64)\n",
    "df['n_service_B'] = np.array(df.service=='B', dtype=np.int64)"
   ]
  },
  {
   "cell_type": "code",
   "execution_count": 13,
   "id": "7fc92dcc-03ac-4ff4-8344-f5f7e62d400b",
   "metadata": {},
   "outputs": [],
   "source": [
    "# Add identifier based on discharge time\n",
    "df['discharge_before_14'] = np.array(df.discharge_hour<14, dtype=np.int64)\n",
    "df['discharge_before_13'] = np.array(df.discharge_hour<13, dtype=np.int64)\n",
    "df['discharge_before_12'] = np.array(df.discharge_hour<12, dtype=np.int64)\n",
    "df['discharge_before_11'] = np.array(df.discharge_hour<11, dtype=np.int64)\n",
    "\n",
    "# Add identifier based on bed wait time\n",
    "df['bed_wait_less_30_min'] = np.array(df.bed_wait_mins<30, dtype=np.int64)\n",
    "df['bed_wait_less_1_hour'] = np.array(df.bed_wait_mins<60, dtype=np.int64)\n",
    "df['bed_wait_less_2_hour'] = np.array(df.bed_wait_mins<120, dtype=np.int64)"
   ]
  },
  {
   "cell_type": "code",
   "execution_count": 14,
   "id": "65330af4-ae64-4cbc-b067-431e082f41a9",
   "metadata": {},
   "outputs": [],
   "source": [
    "# Add identifier for extreme cases\n",
    "df['cm_case'] = np.array(df.case_management_end_time.notna(), dtype=np.int64)\n",
    "df['equip_case'] = np.array(df.equipment_end_time.notna(), dtype=np.int64)\n",
    "df['trans_case'] = np.array(df.transport_end_time.notna(), dtype=np.int64)\n",
    "df['cm_trans_case'] = np.array(df.transport_end_time.notna() & df.case_management_end_time.notna(), dtype=np.int64)\n",
    "df['cm_equip_case'] = np.array(df.equipment_end_time.notna() & df.case_management_end_time.notna(), dtype=np.int64)\n",
    "df['cm_trans_med_case'] = np.array(df.transport_end_time.notna() & df.case_management_end_time.notna() & df.pharmacist_end_time.notna(), dtype=np.int64)\n",
    "df['cm_equip_med_case'] = np.array(df.equipment_end_time.notna() & df.case_management_end_time.notna() & df.pharmacist_end_time.notna(), dtype=np.int64)\n",
    "df['cm_equip_trans_case'] = np.array(df.equipment_end_time.notna() & df.transport_end_time.notna() & df.case_management_end_time.notna(), dtype=np.int64)\n",
    "df['cm_equip_trans_med_case'] = np.array(df.equipment_end_time.notna() & df.transport_end_time.notna() & df.case_management_end_time.notna() & df.pharmacist_end_time.notna(), dtype=np.int64)"
   ]
  },
  {
   "cell_type": "markdown",
   "id": "335ee062-2995-4929-9926-8cd98233c1ad",
   "metadata": {},
   "source": [
    "### Summarize Data (Day Level)"
   ]
  },
  {
   "cell_type": "code",
   "execution_count": 15,
   "id": "dd49e9ce-79c4-43b7-b658-207b26350a3d",
   "metadata": {},
   "outputs": [
    {
     "data": {
      "text/html": [
       "<div>\n",
       "<style scoped>\n",
       "    .dataframe tbody tr th:only-of-type {\n",
       "        vertical-align: middle;\n",
       "    }\n",
       "\n",
       "    .dataframe tbody tr th {\n",
       "        vertical-align: top;\n",
       "    }\n",
       "\n",
       "    .dataframe thead th {\n",
       "        text-align: right;\n",
       "    }\n",
       "</style>\n",
       "<table border=\"1\" class=\"dataframe\">\n",
       "  <thead>\n",
       "    <tr style=\"text-align: right;\">\n",
       "      <th></th>\n",
       "      <th>n_discharges</th>\n",
       "      <th>avg_discharge_time</th>\n",
       "      <th>percent_discharge_before_14</th>\n",
       "      <th>percent_discharge_before_13</th>\n",
       "      <th>percent_discharge_before_12</th>\n",
       "      <th>percent_discharge_before_11</th>\n",
       "      <th>weekday</th>\n",
       "      <th>n_md_staff</th>\n",
       "      <th>n_app_staff</th>\n",
       "      <th>n_nurse_staff</th>\n",
       "      <th>...</th>\n",
       "      <th>perc_cm_equip_med_cases</th>\n",
       "      <th>perc_cm_equip_trans_cases</th>\n",
       "      <th>perc_cm_equip_trans_med_cases</th>\n",
       "      <th>avg_bed_wait_time</th>\n",
       "      <th>percent_bed_wait_less_30_min</th>\n",
       "      <th>percent_bed_wait_less_1_hr</th>\n",
       "      <th>percent_bed_wait_less_2_hr</th>\n",
       "      <th>percent_home_floor</th>\n",
       "      <th>percent_service_A</th>\n",
       "      <th>percent_service_B</th>\n",
       "    </tr>\n",
       "    <tr>\n",
       "      <th>discharge_date</th>\n",
       "      <th></th>\n",
       "      <th></th>\n",
       "      <th></th>\n",
       "      <th></th>\n",
       "      <th></th>\n",
       "      <th></th>\n",
       "      <th></th>\n",
       "      <th></th>\n",
       "      <th></th>\n",
       "      <th></th>\n",
       "      <th></th>\n",
       "      <th></th>\n",
       "      <th></th>\n",
       "      <th></th>\n",
       "      <th></th>\n",
       "      <th></th>\n",
       "      <th></th>\n",
       "      <th></th>\n",
       "      <th></th>\n",
       "      <th></th>\n",
       "      <th></th>\n",
       "    </tr>\n",
       "  </thead>\n",
       "  <tbody>\n",
       "    <tr>\n",
       "      <th>01-01-2023</th>\n",
       "      <td>22</td>\n",
       "      <td>12.500000</td>\n",
       "      <td>0.727273</td>\n",
       "      <td>0.545455</td>\n",
       "      <td>0.272727</td>\n",
       "      <td>0.045455</td>\n",
       "      <td>6.0</td>\n",
       "      <td>3</td>\n",
       "      <td>6</td>\n",
       "      <td>8</td>\n",
       "      <td>...</td>\n",
       "      <td>0.090909</td>\n",
       "      <td>0.045455</td>\n",
       "      <td>0.045455</td>\n",
       "      <td>64.319697</td>\n",
       "      <td>0.363636</td>\n",
       "      <td>0.454545</td>\n",
       "      <td>0.818182</td>\n",
       "      <td>0.454545</td>\n",
       "      <td>0.727273</td>\n",
       "      <td>0.272727</td>\n",
       "    </tr>\n",
       "    <tr>\n",
       "      <th>01-01-2024</th>\n",
       "      <td>10</td>\n",
       "      <td>11.500000</td>\n",
       "      <td>1.000000</td>\n",
       "      <td>0.700000</td>\n",
       "      <td>0.600000</td>\n",
       "      <td>0.100000</td>\n",
       "      <td>0.0</td>\n",
       "      <td>1</td>\n",
       "      <td>3</td>\n",
       "      <td>10</td>\n",
       "      <td>...</td>\n",
       "      <td>0.000000</td>\n",
       "      <td>0.000000</td>\n",
       "      <td>0.000000</td>\n",
       "      <td>0.000000</td>\n",
       "      <td>1.000000</td>\n",
       "      <td>1.000000</td>\n",
       "      <td>1.000000</td>\n",
       "      <td>0.700000</td>\n",
       "      <td>0.400000</td>\n",
       "      <td>0.600000</td>\n",
       "    </tr>\n",
       "    <tr>\n",
       "      <th>01-01-2025</th>\n",
       "      <td>21</td>\n",
       "      <td>12.285714</td>\n",
       "      <td>0.714286</td>\n",
       "      <td>0.619048</td>\n",
       "      <td>0.523810</td>\n",
       "      <td>0.142857</td>\n",
       "      <td>2.0</td>\n",
       "      <td>4</td>\n",
       "      <td>6</td>\n",
       "      <td>10</td>\n",
       "      <td>...</td>\n",
       "      <td>0.047619</td>\n",
       "      <td>0.095238</td>\n",
       "      <td>0.047619</td>\n",
       "      <td>0.000000</td>\n",
       "      <td>1.000000</td>\n",
       "      <td>1.000000</td>\n",
       "      <td>1.000000</td>\n",
       "      <td>0.476190</td>\n",
       "      <td>0.523810</td>\n",
       "      <td>0.476190</td>\n",
       "    </tr>\n",
       "    <tr>\n",
       "      <th>01-01-2026</th>\n",
       "      <td>17</td>\n",
       "      <td>12.058824</td>\n",
       "      <td>0.764706</td>\n",
       "      <td>0.588235</td>\n",
       "      <td>0.411765</td>\n",
       "      <td>0.235294</td>\n",
       "      <td>3.0</td>\n",
       "      <td>4</td>\n",
       "      <td>5</td>\n",
       "      <td>8</td>\n",
       "      <td>...</td>\n",
       "      <td>0.000000</td>\n",
       "      <td>0.058824</td>\n",
       "      <td>0.000000</td>\n",
       "      <td>113.127451</td>\n",
       "      <td>0.294118</td>\n",
       "      <td>0.294118</td>\n",
       "      <td>0.352941</td>\n",
       "      <td>0.647059</td>\n",
       "      <td>0.647059</td>\n",
       "      <td>0.352941</td>\n",
       "    </tr>\n",
       "    <tr>\n",
       "      <th>01-01-2027</th>\n",
       "      <td>21</td>\n",
       "      <td>13.238095</td>\n",
       "      <td>0.523810</td>\n",
       "      <td>0.523810</td>\n",
       "      <td>0.190476</td>\n",
       "      <td>0.000000</td>\n",
       "      <td>4.0</td>\n",
       "      <td>2</td>\n",
       "      <td>5</td>\n",
       "      <td>10</td>\n",
       "      <td>...</td>\n",
       "      <td>0.047619</td>\n",
       "      <td>0.047619</td>\n",
       "      <td>0.047619</td>\n",
       "      <td>100.665873</td>\n",
       "      <td>0.285714</td>\n",
       "      <td>0.333333</td>\n",
       "      <td>0.476190</td>\n",
       "      <td>0.333333</td>\n",
       "      <td>0.476190</td>\n",
       "      <td>0.523810</td>\n",
       "    </tr>\n",
       "  </tbody>\n",
       "</table>\n",
       "<p>5 rows × 32 columns</p>\n",
       "</div>"
      ],
      "text/plain": [
       "                n_discharges  avg_discharge_time  percent_discharge_before_14  \\\n",
       "discharge_date                                                                  \n",
       "01-01-2023                22           12.500000                     0.727273   \n",
       "01-01-2024                10           11.500000                     1.000000   \n",
       "01-01-2025                21           12.285714                     0.714286   \n",
       "01-01-2026                17           12.058824                     0.764706   \n",
       "01-01-2027                21           13.238095                     0.523810   \n",
       "\n",
       "                percent_discharge_before_13  percent_discharge_before_12  \\\n",
       "discharge_date                                                             \n",
       "01-01-2023                         0.545455                     0.272727   \n",
       "01-01-2024                         0.700000                     0.600000   \n",
       "01-01-2025                         0.619048                     0.523810   \n",
       "01-01-2026                         0.588235                     0.411765   \n",
       "01-01-2027                         0.523810                     0.190476   \n",
       "\n",
       "                percent_discharge_before_11  weekday  n_md_staff  n_app_staff  \\\n",
       "discharge_date                                                                  \n",
       "01-01-2023                         0.045455      6.0           3            6   \n",
       "01-01-2024                         0.100000      0.0           1            3   \n",
       "01-01-2025                         0.142857      2.0           4            6   \n",
       "01-01-2026                         0.235294      3.0           4            5   \n",
       "01-01-2027                         0.000000      4.0           2            5   \n",
       "\n",
       "                n_nurse_staff  ...  perc_cm_equip_med_cases  \\\n",
       "discharge_date                 ...                            \n",
       "01-01-2023                  8  ...                 0.090909   \n",
       "01-01-2024                 10  ...                 0.000000   \n",
       "01-01-2025                 10  ...                 0.047619   \n",
       "01-01-2026                  8  ...                 0.000000   \n",
       "01-01-2027                 10  ...                 0.047619   \n",
       "\n",
       "                perc_cm_equip_trans_cases  perc_cm_equip_trans_med_cases  \\\n",
       "discharge_date                                                             \n",
       "01-01-2023                       0.045455                       0.045455   \n",
       "01-01-2024                       0.000000                       0.000000   \n",
       "01-01-2025                       0.095238                       0.047619   \n",
       "01-01-2026                       0.058824                       0.000000   \n",
       "01-01-2027                       0.047619                       0.047619   \n",
       "\n",
       "               avg_bed_wait_time  percent_bed_wait_less_30_min  \\\n",
       "discharge_date                                                   \n",
       "01-01-2023             64.319697                      0.363636   \n",
       "01-01-2024              0.000000                      1.000000   \n",
       "01-01-2025              0.000000                      1.000000   \n",
       "01-01-2026            113.127451                      0.294118   \n",
       "01-01-2027            100.665873                      0.285714   \n",
       "\n",
       "                percent_bed_wait_less_1_hr  percent_bed_wait_less_2_hr  \\\n",
       "discharge_date                                                           \n",
       "01-01-2023                        0.454545                    0.818182   \n",
       "01-01-2024                        1.000000                    1.000000   \n",
       "01-01-2025                        1.000000                    1.000000   \n",
       "01-01-2026                        0.294118                    0.352941   \n",
       "01-01-2027                        0.333333                    0.476190   \n",
       "\n",
       "                percent_home_floor  percent_service_A  percent_service_B  \n",
       "discharge_date                                                            \n",
       "01-01-2023                0.454545           0.727273           0.272727  \n",
       "01-01-2024                0.700000           0.400000           0.600000  \n",
       "01-01-2025                0.476190           0.523810           0.476190  \n",
       "01-01-2026                0.647059           0.647059           0.352941  \n",
       "01-01-2027                0.333333           0.476190           0.523810  \n",
       "\n",
       "[5 rows x 32 columns]"
      ]
     },
     "execution_count": 15,
     "metadata": {},
     "output_type": "execute_result"
    }
   ],
   "source": [
    "sdf = df.groupby('discharge_date').agg(\n",
    "    # discharge\n",
    "    n_discharges=('id','count'),\n",
    "    avg_discharge_time = ('discharge_hour','mean'),\n",
    "    percent_discharge_before_14 = ('discharge_before_14','mean'),\n",
    "    percent_discharge_before_13 = ('discharge_before_13','mean'),\n",
    "    percent_discharge_before_12 = ('discharge_before_12','mean'),\n",
    "    percent_discharge_before_11 = ('discharge_before_11','mean'),\n",
    "    # calender datetime\n",
    "    weekday = ('discharge_dayofweek','mean'),\n",
    "    # staff count\n",
    "    n_md_staff=('rounding MD','nunique'),\n",
    "    n_app_staff=('rounding APP','nunique'),\n",
    "    n_nurse_staff=('discharge_process_nurse','nunique'),\n",
    "    n_cm_staff=('case_management_staff','nunique'),\n",
    "    n_pharm_staff=('pharmacist_staff','nunique'),\n",
    "    n_bed_staff=('bedstaff_staff','nunique'),\n",
    "    # rounding\n",
    "    rounding_start=('rounding_begin_time', 'min'),\n",
    "    n_floor_adder=('rounding_floor_adder', 'mean'),\n",
    "    rounding_mean_queue_length=('rounding_queue', 'mean'),\n",
    "\n",
    "    # n cases\n",
    "    perc_transport_cases=('trans_case','mean'),\n",
    "    perc_equipment_cases=('equip_case','mean'),\n",
    "    perc_cm_cases=('cm_case','mean'),\n",
    "    perc_cm_trans_cases=('cm_trans_case','mean'),\n",
    "    perc_cm_equip_cases=('cm_equip_case','mean'),\n",
    "    perc_cm_trans_med_cases=('cm_trans_med_case','mean'),\n",
    "    perc_cm_equip_med_cases=('cm_equip_med_case','mean'),\n",
    "    perc_cm_equip_trans_cases=('cm_equip_trans_case','mean'),\n",
    "    perc_cm_equip_trans_med_cases=('cm_equip_trans_med_case','mean'),\n",
    "    \n",
    "    # bed wait time\n",
    "    avg_bed_wait_time=('bed_wait_mins','mean'),\n",
    "    percent_bed_wait_less_30_min=('bed_wait_less_30_min','mean'),    \n",
    "    percent_bed_wait_less_1_hr=('bed_wait_less_1_hour','mean'),\n",
    "    percent_bed_wait_less_2_hr=('bed_wait_less_2_hour','mean'),\n",
    "    \n",
    "    # service\n",
    "    percent_home_floor=('home', 'mean'),\n",
    "    percent_service_A=('n_service_A','mean'),\n",
    "    percent_service_B=('n_service_B','mean'),\n",
    ")\n",
    "sdf.head()"
   ]
  },
  {
   "cell_type": "markdown",
   "id": "23e1042b-6b88-4a32-9f71-ed6ab37f8a18",
   "metadata": {},
   "source": [
    "#### Add rounding start"
   ]
  },
  {
   "cell_type": "code",
   "execution_count": 16,
   "id": "559491a1-5526-4c0b-b529-5e735c0dc798",
   "metadata": {},
   "outputs": [],
   "source": [
    "sdf.loc[:, 'rounding_start'] = pd.to_datetime(sdf['rounding_start'])\n",
    "sdf.loc[:, 'rounding_start'] = sdf.rounding_start.dt.hour*60 + sdf.rounding_start.dt.minute"
   ]
  },
  {
   "cell_type": "markdown",
   "id": "1f9b8aba-9ca6-49a5-bb7c-7c68e24598dd",
   "metadata": {},
   "source": [
    "#### Average Discharge labels"
   ]
  },
  {
   "cell_type": "code",
   "execution_count": 25,
   "id": "bacb6bd8-abd5-454a-9d2a-08c67c1797da",
   "metadata": {},
   "outputs": [],
   "source": [
    "sdf['avg_discharge_before_14'] = np.array(sdf.avg_discharge_time<=14, dtype=np.int64)\n",
    "sdf['avg_discharge_before_13'] = np.array(sdf.avg_discharge_time<=13, dtype=np.int64)\n",
    "sdf['avg_discharge_before_12'] = np.array(sdf.avg_discharge_time<=12, dtype=np.int64)\n",
    "sdf['avg_discharge_before_11'] = np.array(sdf.avg_discharge_time<=11, dtype=np.int64)"
   ]
  },
  {
   "cell_type": "code",
   "execution_count": 26,
   "id": "56ee0ebf-abe6-4f13-8a34-060c7b489656",
   "metadata": {},
   "outputs": [],
   "source": [
    "sdf.reset_index(drop=False).to_csv('summary.csv', index=False)"
   ]
  },
  {
   "cell_type": "markdown",
   "id": "c1224d95-7338-4f00-99c5-9c34d1cc1cbf",
   "metadata": {},
   "source": [
    "### Preliminary Analysis"
   ]
  },
  {
   "cell_type": "code",
   "execution_count": 27,
   "id": "977a477b-4ce1-4a10-bda4-84826869d755",
   "metadata": {},
   "outputs": [
    {
     "name": "stdout",
     "output_type": "stream",
     "text": [
      "0.004932858317347218 0.19210742669224445 0.6407234858865443\n"
     ]
    }
   ],
   "source": [
    "print(\n",
    "    sdf['avg_discharge_before_11'].mean(),\n",
    "    sdf['avg_discharge_before_12'].mean(),\n",
    "    sdf['avg_discharge_before_13'].mean(),\n",
    ")"
   ]
  },
  {
   "cell_type": "code",
   "execution_count": 28,
   "id": "6bb1ab52-0e34-4539-a730-77f129b01dfa",
   "metadata": {},
   "outputs": [
    {
     "data": {
      "text/html": [
       "<div>\n",
       "<style scoped>\n",
       "    .dataframe tbody tr th:only-of-type {\n",
       "        vertical-align: middle;\n",
       "    }\n",
       "\n",
       "    .dataframe tbody tr th {\n",
       "        vertical-align: top;\n",
       "    }\n",
       "\n",
       "    .dataframe thead th {\n",
       "        text-align: right;\n",
       "    }\n",
       "</style>\n",
       "<table border=\"1\" class=\"dataframe\">\n",
       "  <thead>\n",
       "    <tr style=\"text-align: right;\">\n",
       "      <th></th>\n",
       "      <th>less_30_min</th>\n",
       "      <th>less_1_hour</th>\n",
       "      <th>less_2_hour</th>\n",
       "    </tr>\n",
       "    <tr>\n",
       "      <th>avg_discharge_before_14</th>\n",
       "      <th></th>\n",
       "      <th></th>\n",
       "      <th></th>\n",
       "    </tr>\n",
       "  </thead>\n",
       "  <tbody>\n",
       "    <tr>\n",
       "      <th>0</th>\n",
       "      <td>0.448654</td>\n",
       "      <td>0.528383</td>\n",
       "      <td>0.697334</td>\n",
       "    </tr>\n",
       "    <tr>\n",
       "      <th>1</th>\n",
       "      <td>0.584362</td>\n",
       "      <td>0.641192</td>\n",
       "      <td>0.768167</td>\n",
       "    </tr>\n",
       "  </tbody>\n",
       "</table>\n",
       "</div>"
      ],
      "text/plain": [
       "                         less_30_min  less_1_hour  less_2_hour\n",
       "avg_discharge_before_14                                       \n",
       "0                           0.448654     0.528383     0.697334\n",
       "1                           0.584362     0.641192     0.768167"
      ]
     },
     "execution_count": 28,
     "metadata": {},
     "output_type": "execute_result"
    }
   ],
   "source": [
    "sdf.groupby('avg_discharge_before_14').agg(\n",
    "    less_30_min=('percent_bed_wait_less_30_min','mean'),\n",
    "    less_1_hour=('percent_bed_wait_less_1_hr','mean'),\n",
    "    less_2_hour=('percent_bed_wait_less_2_hr','mean')    \n",
    ")"
   ]
  },
  {
   "cell_type": "code",
   "execution_count": 23,
   "id": "9dacf5b1-8a90-4891-b2fd-86b9bf60e656",
   "metadata": {},
   "outputs": [
    {
     "data": {
      "text/html": [
       "<div>\n",
       "<style scoped>\n",
       "    .dataframe tbody tr th:only-of-type {\n",
       "        vertical-align: middle;\n",
       "    }\n",
       "\n",
       "    .dataframe tbody tr th {\n",
       "        vertical-align: top;\n",
       "    }\n",
       "\n",
       "    .dataframe thead th {\n",
       "        text-align: right;\n",
       "    }\n",
       "</style>\n",
       "<table border=\"1\" class=\"dataframe\">\n",
       "  <thead>\n",
       "    <tr style=\"text-align: right;\">\n",
       "      <th></th>\n",
       "      <th>less_30_min</th>\n",
       "      <th>less_1_hour</th>\n",
       "      <th>less_2_hour</th>\n",
       "    </tr>\n",
       "    <tr>\n",
       "      <th>avg_discharge_before_13</th>\n",
       "      <th></th>\n",
       "      <th></th>\n",
       "      <th></th>\n",
       "    </tr>\n",
       "  </thead>\n",
       "  <tbody>\n",
       "    <tr>\n",
       "      <th>0</th>\n",
       "      <td>0.470970</td>\n",
       "      <td>0.540770</td>\n",
       "      <td>0.711557</td>\n",
       "    </tr>\n",
       "    <tr>\n",
       "      <th>1</th>\n",
       "      <td>0.622289</td>\n",
       "      <td>0.676176</td>\n",
       "      <td>0.786519</td>\n",
       "    </tr>\n",
       "  </tbody>\n",
       "</table>\n",
       "</div>"
      ],
      "text/plain": [
       "                         less_30_min  less_1_hour  less_2_hour\n",
       "avg_discharge_before_13                                       \n",
       "0                           0.470970     0.540770     0.711557\n",
       "1                           0.622289     0.676176     0.786519"
      ]
     },
     "execution_count": 23,
     "metadata": {},
     "output_type": "execute_result"
    }
   ],
   "source": [
    "sdf.groupby('avg_discharge_before_13').agg(\n",
    "    less_30_min=('percent_bed_wait_less_30_min','mean'),\n",
    "    less_1_hour=('percent_bed_wait_less_1_hr','mean'),\n",
    "    less_2_hour=('percent_bed_wait_less_2_hr','mean')    \n",
    ")"
   ]
  },
  {
   "cell_type": "code",
   "execution_count": 17,
   "id": "1d644225-b287-4f6d-a194-b04c30b49d00",
   "metadata": {
    "tags": []
   },
   "outputs": [
    {
     "data": {
      "text/html": [
       "<div>\n",
       "<style scoped>\n",
       "    .dataframe tbody tr th:only-of-type {\n",
       "        vertical-align: middle;\n",
       "    }\n",
       "\n",
       "    .dataframe tbody tr th {\n",
       "        vertical-align: top;\n",
       "    }\n",
       "\n",
       "    .dataframe thead th {\n",
       "        text-align: right;\n",
       "    }\n",
       "</style>\n",
       "<table border=\"1\" class=\"dataframe\">\n",
       "  <thead>\n",
       "    <tr style=\"text-align: right;\">\n",
       "      <th></th>\n",
       "      <th>less_30_min</th>\n",
       "      <th>less_1_hour</th>\n",
       "      <th>less_2_hour</th>\n",
       "    </tr>\n",
       "    <tr>\n",
       "      <th>avg_discharge_before_12</th>\n",
       "      <th></th>\n",
       "      <th></th>\n",
       "      <th></th>\n",
       "    </tr>\n",
       "  </thead>\n",
       "  <tbody>\n",
       "    <tr>\n",
       "      <th>0</th>\n",
       "      <td>0.510106</td>\n",
       "      <td>0.574751</td>\n",
       "      <td>0.726875</td>\n",
       "    </tr>\n",
       "    <tr>\n",
       "      <th>1</th>\n",
       "      <td>0.811074</td>\n",
       "      <td>0.849475</td>\n",
       "      <td>0.897155</td>\n",
       "    </tr>\n",
       "  </tbody>\n",
       "</table>\n",
       "</div>"
      ],
      "text/plain": [
       "                         less_30_min  less_1_hour  less_2_hour\n",
       "avg_discharge_before_12                                       \n",
       "0                           0.510106     0.574751     0.726875\n",
       "1                           0.811074     0.849475     0.897155"
      ]
     },
     "execution_count": 17,
     "metadata": {},
     "output_type": "execute_result"
    }
   ],
   "source": [
    "sdf.groupby('avg_discharge_before_12').agg(\n",
    "    less_30_min=('percent_bed_wait_less_30_min','mean'),\n",
    "    less_1_hour=('percent_bed_wait_less_1_hr','mean'),\n",
    "    less_2_hour=('percent_bed_wait_less_2_hr','mean')    \n",
    ")"
   ]
  },
  {
   "cell_type": "code",
   "execution_count": 18,
   "id": "4cecf2dc-a335-455f-8ce5-5243c9300425",
   "metadata": {},
   "outputs": [
    {
     "data": {
      "text/html": [
       "<div>\n",
       "<style scoped>\n",
       "    .dataframe tbody tr th:only-of-type {\n",
       "        vertical-align: middle;\n",
       "    }\n",
       "\n",
       "    .dataframe tbody tr th {\n",
       "        vertical-align: top;\n",
       "    }\n",
       "\n",
       "    .dataframe thead th {\n",
       "        text-align: right;\n",
       "    }\n",
       "</style>\n",
       "<table border=\"1\" class=\"dataframe\">\n",
       "  <thead>\n",
       "    <tr style=\"text-align: right;\">\n",
       "      <th></th>\n",
       "      <th>less_30_min</th>\n",
       "      <th>less_1_hour</th>\n",
       "      <th>less_2_hour</th>\n",
       "    </tr>\n",
       "    <tr>\n",
       "      <th>avg_discharge_before_11</th>\n",
       "      <th></th>\n",
       "      <th></th>\n",
       "      <th></th>\n",
       "    </tr>\n",
       "  </thead>\n",
       "  <tbody>\n",
       "    <tr>\n",
       "      <th>0</th>\n",
       "      <td>0.566370</td>\n",
       "      <td>0.625972</td>\n",
       "      <td>0.758553</td>\n",
       "    </tr>\n",
       "    <tr>\n",
       "      <th>1</th>\n",
       "      <td>0.881313</td>\n",
       "      <td>0.941414</td>\n",
       "      <td>0.968182</td>\n",
       "    </tr>\n",
       "  </tbody>\n",
       "</table>\n",
       "</div>"
      ],
      "text/plain": [
       "                         less_30_min  less_1_hour  less_2_hour\n",
       "avg_discharge_before_11                                       \n",
       "0                           0.566370     0.625972     0.758553\n",
       "1                           0.881313     0.941414     0.968182"
      ]
     },
     "execution_count": 18,
     "metadata": {},
     "output_type": "execute_result"
    }
   ],
   "source": [
    "sdf.groupby('avg_discharge_before_11').agg(\n",
    "    less_30_min=('percent_bed_wait_less_30_min','mean'),\n",
    "    less_1_hour=('percent_bed_wait_less_1_hr','mean'),\n",
    "    less_2_hour=('percent_bed_wait_less_2_hr','mean')    \n",
    ")"
   ]
  },
  {
   "cell_type": "code",
   "execution_count": 20,
   "id": "aceaa680-b862-4275-8765-902f9ba3a3d7",
   "metadata": {},
   "outputs": [
    {
     "data": {
      "text/plain": [
       "[<matplotlib.lines.Line2D at 0x15c0b9f40>]"
      ]
     },
     "execution_count": 20,
     "metadata": {},
     "output_type": "execute_result"
    },
    {
     "data": {
      "image/png": "[encoded data removed]",
      "text/plain": [
       "<Figure size 432x288 with 1 Axes>"
      ]
     },
     "metadata": {
      "needs_background": "light"
     },
     "output_type": "display_data"
    }
   ],
   "source": [
    "plt.plot(sdf.avg_discharge_time, sdf.n_discharges, 'bo')"
   ]
  },
  {
   "cell_type": "code",
   "execution_count": 21,
   "id": "24366c56-b921-4a88-a183-b393d7106c02",
   "metadata": {},
   "outputs": [
    {
     "data": {
      "text/plain": [
       "[<matplotlib.lines.Line2D at 0x15bd6ed90>]"
      ]
     },
     "execution_count": 21,
     "metadata": {},
     "output_type": "execute_result"
    },
    {
     "data": {
      "image/png": "[encoded data removed]",
      "text/plain": [
       "<Figure size 432x288 with 1 Axes>"
      ]
     },
     "metadata": {
      "needs_background": "light"
     },
     "output_type": "display_data"
    }
   ],
   "source": [
    "plt.plot(sdf.avg_discharge_time, sdf.n_transport_cases, 'bo')"
   ]
  },
  {
   "cell_type": "code",
   "execution_count": 22,
   "id": "f95c3d4a-2cbd-4513-9593-85e8ebddb8c8",
   "metadata": {},
   "outputs": [
    {
     "data": {
      "text/plain": [
       "[<matplotlib.lines.Line2D at 0x15bde16d0>]"
      ]
     },
     "execution_count": 22,
     "metadata": {},
     "output_type": "execute_result"
    },
    {
     "data": {
      "image/png": "[encoded data removed]",
      "text/plain": [
       "<Figure size 432x288 with 1 Axes>"
      ]
     },
     "metadata": {
      "needs_background": "light"
     },
     "output_type": "display_data"
    }
   ],
   "source": [
    "plt.plot(sdf.avg_discharge_time, sdf.percent_discharge_before_13, 'bo')"
   ]
  },
  {
   "cell_type": "code",
   "execution_count": 30,
   "id": "584bc5e2-71a1-49a7-9cbe-2dbee291fdc2",
   "metadata": {},
   "outputs": [
    {
     "data": {
      "text/plain": [
       "[<matplotlib.lines.Line2D at 0x15e9f9c70>]"
      ]
     },
     "execution_count": 30,
     "metadata": {},
     "output_type": "execute_result"
    },
    {
     "data": {
      "image/png": "[encoded data removed]",
      "text/plain": [
       "<Figure size 432x288 with 1 Axes>"
      ]
     },
     "metadata": {
      "needs_background": "light"
     },
     "output_type": "display_data"
    }
   ],
   "source": [
    "plt.plot(sdf.avg_discharge_time, sdf.n_md_staff, 'bo')"
   ]
  },
  {
   "cell_type": "code",
   "execution_count": 21,
   "id": "b8852bfe-639f-4c05-9ea7-afb558c6edf7",
   "metadata": {},
   "outputs": [
    {
     "data": {
      "text/plain": [
       "[<matplotlib.lines.Line2D at 0x16534f4f0>]"
      ]
     },
     "execution_count": 21,
     "metadata": {},
     "output_type": "execute_result"
    },
    {
     "data": {
      "image/png": "[encoded data removed]",
      "text/plain": [
       "<Figure size 432x360 with 1 Axes>"
      ]
     },
     "metadata": {
      "needs_background": "light"
     },
     "output_type": "display_data"
    }
   ],
   "source": [
    "plt.plot(sdf.avg_discharge_time, sdf.percent_bed_wait_less_1_hr, 'ro')"
   ]
  }
 ],
 "metadata": {
  "kernelspec": {
   "display_name": "Python 3 (ipykernel)",
   "language": "python",
   "name": "python3"
  },
  "language_info": {
   "codemirror_mode": {
    "name": "ipython",
    "version": 3
   },
   "file_extension": ".py",
   "mimetype": "text/x-python",
   "name": "python",
   "nbconvert_exporter": "python",
   "pygments_lexer": "ipython3",
   "version": "3.9.7"
  }
 },
 "nbformat": 4,
 "nbformat_minor": 5
}
